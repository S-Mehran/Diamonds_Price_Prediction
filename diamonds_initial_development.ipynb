{
 "cells": [
  {
   "cell_type": "code",
   "execution_count": 146,
   "metadata": {},
   "outputs": [],
   "source": [
    "import pandas as pd\n",
    "import numpy as np\n",
    "import matplotlib.pyplot as plt\n",
    "import seaborn as sns\n",
    "%matplotlib inline\n"
   ]
  },
  {
   "cell_type": "code",
   "execution_count": 147,
   "metadata": {},
   "outputs": [
    {
     "data": {
      "text/html": [
       "<div>\n",
       "<style scoped>\n",
       "    .dataframe tbody tr th:only-of-type {\n",
       "        vertical-align: middle;\n",
       "    }\n",
       "\n",
       "    .dataframe tbody tr th {\n",
       "        vertical-align: top;\n",
       "    }\n",
       "\n",
       "    .dataframe thead th {\n",
       "        text-align: right;\n",
       "    }\n",
       "</style>\n",
       "<table border=\"1\" class=\"dataframe\">\n",
       "  <thead>\n",
       "    <tr style=\"text-align: right;\">\n",
       "      <th></th>\n",
       "      <th>Shape</th>\n",
       "      <th>Cut</th>\n",
       "      <th>Color</th>\n",
       "      <th>Clarity</th>\n",
       "      <th>Carat Weight</th>\n",
       "      <th>Length/Width Ratio</th>\n",
       "      <th>Depth %</th>\n",
       "      <th>Table %</th>\n",
       "      <th>Polish</th>\n",
       "      <th>Symmetry</th>\n",
       "      <th>Girdle</th>\n",
       "      <th>Culet</th>\n",
       "      <th>Length</th>\n",
       "      <th>Width</th>\n",
       "      <th>Height</th>\n",
       "      <th>Price</th>\n",
       "      <th>Type</th>\n",
       "      <th>Fluorescence</th>\n",
       "    </tr>\n",
       "  </thead>\n",
       "  <tbody>\n",
       "    <tr>\n",
       "      <th>0</th>\n",
       "      <td>Cushion Modified</td>\n",
       "      <td>Ideal</td>\n",
       "      <td>F</td>\n",
       "      <td>VVS2</td>\n",
       "      <td>1.84</td>\n",
       "      <td>1.02</td>\n",
       "      <td>65.8</td>\n",
       "      <td>59.0</td>\n",
       "      <td>Excellent</td>\n",
       "      <td>Very Good</td>\n",
       "      <td>Medium to Thick</td>\n",
       "      <td>NaN</td>\n",
       "      <td>7.09</td>\n",
       "      <td>6.95</td>\n",
       "      <td>4.57</td>\n",
       "      <td>2640</td>\n",
       "      <td>GIA Lab-Grown</td>\n",
       "      <td>NaN</td>\n",
       "    </tr>\n",
       "    <tr>\n",
       "      <th>1</th>\n",
       "      <td>Pear</td>\n",
       "      <td>NaN</td>\n",
       "      <td>E</td>\n",
       "      <td>VS1</td>\n",
       "      <td>1.20</td>\n",
       "      <td>1.65</td>\n",
       "      <td>62.5</td>\n",
       "      <td>58.0</td>\n",
       "      <td>Very Good</td>\n",
       "      <td>Very Good</td>\n",
       "      <td>Medium to Thick</td>\n",
       "      <td>NaN</td>\n",
       "      <td>9.64</td>\n",
       "      <td>5.86</td>\n",
       "      <td>3.66</td>\n",
       "      <td>1070</td>\n",
       "      <td>GIA Lab-Grown</td>\n",
       "      <td>NaN</td>\n",
       "    </tr>\n",
       "    <tr>\n",
       "      <th>2</th>\n",
       "      <td>Oval</td>\n",
       "      <td>NaN</td>\n",
       "      <td>E</td>\n",
       "      <td>VS1</td>\n",
       "      <td>1.19</td>\n",
       "      <td>1.41</td>\n",
       "      <td>63.1</td>\n",
       "      <td>63.0</td>\n",
       "      <td>Very Good</td>\n",
       "      <td>Very Good</td>\n",
       "      <td>Medium to Thick</td>\n",
       "      <td>NaN</td>\n",
       "      <td>8.44</td>\n",
       "      <td>6.00</td>\n",
       "      <td>3.79</td>\n",
       "      <td>1070</td>\n",
       "      <td>GIA Lab-Grown</td>\n",
       "      <td>NaN</td>\n",
       "    </tr>\n",
       "    <tr>\n",
       "      <th>3</th>\n",
       "      <td>Heart</td>\n",
       "      <td>NaN</td>\n",
       "      <td>D</td>\n",
       "      <td>IF</td>\n",
       "      <td>1.00</td>\n",
       "      <td>1.18</td>\n",
       "      <td>61.7</td>\n",
       "      <td>58.0</td>\n",
       "      <td>Excellent</td>\n",
       "      <td>Excellent</td>\n",
       "      <td>Slightly Thick to Very Thick</td>\n",
       "      <td>NaN</td>\n",
       "      <td>5.85</td>\n",
       "      <td>6.89</td>\n",
       "      <td>4.25</td>\n",
       "      <td>7110</td>\n",
       "      <td>GIA</td>\n",
       "      <td>Faint</td>\n",
       "    </tr>\n",
       "    <tr>\n",
       "      <th>4</th>\n",
       "      <td>Radiant</td>\n",
       "      <td>NaN</td>\n",
       "      <td>H</td>\n",
       "      <td>VS1</td>\n",
       "      <td>1.01</td>\n",
       "      <td>1.35</td>\n",
       "      <td>69.4</td>\n",
       "      <td>66.0</td>\n",
       "      <td>Excellent</td>\n",
       "      <td>Very Good</td>\n",
       "      <td>Thick</td>\n",
       "      <td>NaN</td>\n",
       "      <td>6.80</td>\n",
       "      <td>5.05</td>\n",
       "      <td>3.50</td>\n",
       "      <td>3050</td>\n",
       "      <td>GIA</td>\n",
       "      <td>NaN</td>\n",
       "    </tr>\n",
       "  </tbody>\n",
       "</table>\n",
       "</div>"
      ],
      "text/plain": [
       "              Shape    Cut Color Clarity  Carat Weight  Length/Width Ratio  \\\n",
       "0  Cushion Modified  Ideal     F    VVS2          1.84                1.02   \n",
       "1              Pear    NaN     E     VS1          1.20                1.65   \n",
       "2              Oval    NaN     E     VS1          1.19                1.41   \n",
       "3             Heart    NaN     D      IF          1.00                1.18   \n",
       "4           Radiant    NaN     H     VS1          1.01                1.35   \n",
       "\n",
       "   Depth %  Table %     Polish   Symmetry                        Girdle Culet  \\\n",
       "0     65.8     59.0  Excellent  Very Good               Medium to Thick   NaN   \n",
       "1     62.5     58.0  Very Good  Very Good               Medium to Thick   NaN   \n",
       "2     63.1     63.0  Very Good  Very Good               Medium to Thick   NaN   \n",
       "3     61.7     58.0  Excellent  Excellent  Slightly Thick to Very Thick   NaN   \n",
       "4     69.4     66.0  Excellent  Very Good                         Thick   NaN   \n",
       "\n",
       "   Length  Width  Height  Price           Type Fluorescence  \n",
       "0    7.09   6.95    4.57   2640  GIA Lab-Grown          NaN  \n",
       "1    9.64   5.86    3.66   1070  GIA Lab-Grown          NaN  \n",
       "2    8.44   6.00    3.79   1070  GIA Lab-Grown          NaN  \n",
       "3    5.85   6.89    4.25   7110            GIA        Faint  \n",
       "4    6.80   5.05    3.50   3050            GIA          NaN  "
      ]
     },
     "execution_count": 147,
     "metadata": {},
     "output_type": "execute_result"
    }
   ],
   "source": [
    "df = pd.read_csv('C:\\\\Users\\\\M-TT\\\\Code\\\\Diamonds Data\\\\diamonds (cleaned).csv')\n",
    "df.head()"
   ]
  },
  {
   "cell_type": "code",
   "execution_count": 148,
   "metadata": {},
   "outputs": [
    {
     "data": {
      "text/plain": [
       "Shape                  object\n",
       "Cut                    object\n",
       "Color                  object\n",
       "Clarity                object\n",
       "Carat Weight          float64\n",
       "Length/Width Ratio    float64\n",
       "Depth %               float64\n",
       "Table %               float64\n",
       "Polish                 object\n",
       "Symmetry               object\n",
       "Girdle                 object\n",
       "Culet                  object\n",
       "Length                float64\n",
       "Width                 float64\n",
       "Height                float64\n",
       "Price                   int64\n",
       "Type                   object\n",
       "Fluorescence           object\n",
       "dtype: object"
      ]
     },
     "execution_count": 148,
     "metadata": {},
     "output_type": "execute_result"
    }
   ],
   "source": [
    "df.dtypes"
   ]
  },
  {
   "cell_type": "code",
   "execution_count": 149,
   "metadata": {},
   "outputs": [
    {
     "data": {
      "text/html": [
       "<div>\n",
       "<style scoped>\n",
       "    .dataframe tbody tr th:only-of-type {\n",
       "        vertical-align: middle;\n",
       "    }\n",
       "\n",
       "    .dataframe tbody tr th {\n",
       "        vertical-align: top;\n",
       "    }\n",
       "\n",
       "    .dataframe thead th {\n",
       "        text-align: right;\n",
       "    }\n",
       "</style>\n",
       "<table border=\"1\" class=\"dataframe\">\n",
       "  <thead>\n",
       "    <tr style=\"text-align: right;\">\n",
       "      <th></th>\n",
       "      <th>Shape</th>\n",
       "      <th>Cut</th>\n",
       "      <th>Color</th>\n",
       "      <th>Clarity</th>\n",
       "      <th>Carat Weight</th>\n",
       "      <th>Length/Width Ratio</th>\n",
       "      <th>Depth %</th>\n",
       "      <th>Table %</th>\n",
       "      <th>Polish</th>\n",
       "      <th>Symmetry</th>\n",
       "      <th>Girdle</th>\n",
       "      <th>Culet</th>\n",
       "      <th>Length</th>\n",
       "      <th>Width</th>\n",
       "      <th>Height</th>\n",
       "      <th>Price</th>\n",
       "      <th>Type</th>\n",
       "      <th>Fluorescence</th>\n",
       "    </tr>\n",
       "  </thead>\n",
       "  <tbody>\n",
       "    <tr>\n",
       "      <th>count</th>\n",
       "      <td>6480</td>\n",
       "      <td>2182</td>\n",
       "      <td>6480</td>\n",
       "      <td>6480</td>\n",
       "      <td>6480.000000</td>\n",
       "      <td>6480.000000</td>\n",
       "      <td>6478.000000</td>\n",
       "      <td>6468.000000</td>\n",
       "      <td>6465</td>\n",
       "      <td>6465</td>\n",
       "      <td>6463</td>\n",
       "      <td>1891</td>\n",
       "      <td>6465.000000</td>\n",
       "      <td>6465.000000</td>\n",
       "      <td>6465.000000</td>\n",
       "      <td>6485.000000</td>\n",
       "      <td>6485</td>\n",
       "      <td>1221</td>\n",
       "    </tr>\n",
       "    <tr>\n",
       "      <th>unique</th>\n",
       "      <td>11</td>\n",
       "      <td>4</td>\n",
       "      <td>5</td>\n",
       "      <td>6</td>\n",
       "      <td>NaN</td>\n",
       "      <td>NaN</td>\n",
       "      <td>NaN</td>\n",
       "      <td>NaN</td>\n",
       "      <td>3</td>\n",
       "      <td>3</td>\n",
       "      <td>29</td>\n",
       "      <td>5</td>\n",
       "      <td>NaN</td>\n",
       "      <td>NaN</td>\n",
       "      <td>NaN</td>\n",
       "      <td>NaN</td>\n",
       "      <td>3</td>\n",
       "      <td>3</td>\n",
       "    </tr>\n",
       "    <tr>\n",
       "      <th>top</th>\n",
       "      <td>Round</td>\n",
       "      <td>Ideal</td>\n",
       "      <td>E</td>\n",
       "      <td>VS1</td>\n",
       "      <td>NaN</td>\n",
       "      <td>NaN</td>\n",
       "      <td>NaN</td>\n",
       "      <td>NaN</td>\n",
       "      <td>Excellent</td>\n",
       "      <td>Excellent</td>\n",
       "      <td>Medium to Slightly Thick</td>\n",
       "      <td>Pointed</td>\n",
       "      <td>NaN</td>\n",
       "      <td>NaN</td>\n",
       "      <td>NaN</td>\n",
       "      <td>NaN</td>\n",
       "      <td>GIA</td>\n",
       "      <td>Faint</td>\n",
       "    </tr>\n",
       "    <tr>\n",
       "      <th>freq</th>\n",
       "      <td>888</td>\n",
       "      <td>1310</td>\n",
       "      <td>1884</td>\n",
       "      <td>3337</td>\n",
       "      <td>NaN</td>\n",
       "      <td>NaN</td>\n",
       "      <td>NaN</td>\n",
       "      <td>NaN</td>\n",
       "      <td>5939</td>\n",
       "      <td>4551</td>\n",
       "      <td>1713</td>\n",
       "      <td>1861</td>\n",
       "      <td>NaN</td>\n",
       "      <td>NaN</td>\n",
       "      <td>NaN</td>\n",
       "      <td>NaN</td>\n",
       "      <td>3355</td>\n",
       "      <td>695</td>\n",
       "    </tr>\n",
       "    <tr>\n",
       "      <th>mean</th>\n",
       "      <td>NaN</td>\n",
       "      <td>NaN</td>\n",
       "      <td>NaN</td>\n",
       "      <td>NaN</td>\n",
       "      <td>1.235772</td>\n",
       "      <td>1.329548</td>\n",
       "      <td>64.206499</td>\n",
       "      <td>61.828541</td>\n",
       "      <td>NaN</td>\n",
       "      <td>NaN</td>\n",
       "      <td>NaN</td>\n",
       "      <td>NaN</td>\n",
       "      <td>7.663595</td>\n",
       "      <td>6.098323</td>\n",
       "      <td>3.885708</td>\n",
       "      <td>3529.391365</td>\n",
       "      <td>NaN</td>\n",
       "      <td>NaN</td>\n",
       "    </tr>\n",
       "    <tr>\n",
       "      <th>std</th>\n",
       "      <td>NaN</td>\n",
       "      <td>NaN</td>\n",
       "      <td>NaN</td>\n",
       "      <td>NaN</td>\n",
       "      <td>0.506647</td>\n",
       "      <td>0.325707</td>\n",
       "      <td>4.773192</td>\n",
       "      <td>4.760197</td>\n",
       "      <td>NaN</td>\n",
       "      <td>NaN</td>\n",
       "      <td>NaN</td>\n",
       "      <td>NaN</td>\n",
       "      <td>1.674665</td>\n",
       "      <td>1.151152</td>\n",
       "      <td>0.599420</td>\n",
       "      <td>3280.439167</td>\n",
       "      <td>NaN</td>\n",
       "      <td>NaN</td>\n",
       "    </tr>\n",
       "    <tr>\n",
       "      <th>min</th>\n",
       "      <td>NaN</td>\n",
       "      <td>NaN</td>\n",
       "      <td>NaN</td>\n",
       "      <td>NaN</td>\n",
       "      <td>1.000000</td>\n",
       "      <td>1.000000</td>\n",
       "      <td>46.100000</td>\n",
       "      <td>51.000000</td>\n",
       "      <td>NaN</td>\n",
       "      <td>NaN</td>\n",
       "      <td>NaN</td>\n",
       "      <td>NaN</td>\n",
       "      <td>5.180000</td>\n",
       "      <td>4.420000</td>\n",
       "      <td>2.670000</td>\n",
       "      <td>1010.000000</td>\n",
       "      <td>NaN</td>\n",
       "      <td>NaN</td>\n",
       "    </tr>\n",
       "    <tr>\n",
       "      <th>25%</th>\n",
       "      <td>NaN</td>\n",
       "      <td>NaN</td>\n",
       "      <td>NaN</td>\n",
       "      <td>NaN</td>\n",
       "      <td>1.010000</td>\n",
       "      <td>1.020000</td>\n",
       "      <td>61.200000</td>\n",
       "      <td>58.000000</td>\n",
       "      <td>NaN</td>\n",
       "      <td>NaN</td>\n",
       "      <td>NaN</td>\n",
       "      <td>NaN</td>\n",
       "      <td>6.330000</td>\n",
       "      <td>5.390000</td>\n",
       "      <td>3.460000</td>\n",
       "      <td>1210.000000</td>\n",
       "      <td>NaN</td>\n",
       "      <td>NaN</td>\n",
       "    </tr>\n",
       "    <tr>\n",
       "      <th>50%</th>\n",
       "      <td>NaN</td>\n",
       "      <td>NaN</td>\n",
       "      <td>NaN</td>\n",
       "      <td>NaN</td>\n",
       "      <td>1.030000</td>\n",
       "      <td>1.270000</td>\n",
       "      <td>63.100000</td>\n",
       "      <td>61.000000</td>\n",
       "      <td>NaN</td>\n",
       "      <td>NaN</td>\n",
       "      <td>NaN</td>\n",
       "      <td>NaN</td>\n",
       "      <td>7.420000</td>\n",
       "      <td>5.640000</td>\n",
       "      <td>3.670000</td>\n",
       "      <td>3320.000000</td>\n",
       "      <td>NaN</td>\n",
       "      <td>NaN</td>\n",
       "    </tr>\n",
       "    <tr>\n",
       "      <th>75%</th>\n",
       "      <td>NaN</td>\n",
       "      <td>NaN</td>\n",
       "      <td>NaN</td>\n",
       "      <td>NaN</td>\n",
       "      <td>1.200000</td>\n",
       "      <td>1.510000</td>\n",
       "      <td>67.600000</td>\n",
       "      <td>65.000000</td>\n",
       "      <td>NaN</td>\n",
       "      <td>NaN</td>\n",
       "      <td>NaN</td>\n",
       "      <td>NaN</td>\n",
       "      <td>8.660000</td>\n",
       "      <td>6.610000</td>\n",
       "      <td>4.100000</td>\n",
       "      <td>4390.000000</td>\n",
       "      <td>NaN</td>\n",
       "      <td>NaN</td>\n",
       "    </tr>\n",
       "    <tr>\n",
       "      <th>max</th>\n",
       "      <td>NaN</td>\n",
       "      <td>NaN</td>\n",
       "      <td>NaN</td>\n",
       "      <td>NaN</td>\n",
       "      <td>9.380000</td>\n",
       "      <td>2.580000</td>\n",
       "      <td>77.000000</td>\n",
       "      <td>78.000000</td>\n",
       "      <td>NaN</td>\n",
       "      <td>NaN</td>\n",
       "      <td>NaN</td>\n",
       "      <td>NaN</td>\n",
       "      <td>15.210000</td>\n",
       "      <td>14.880000</td>\n",
       "      <td>8.170000</td>\n",
       "      <td>39460.000000</td>\n",
       "      <td>NaN</td>\n",
       "      <td>NaN</td>\n",
       "    </tr>\n",
       "  </tbody>\n",
       "</table>\n",
       "</div>"
      ],
      "text/plain": [
       "        Shape    Cut Color Clarity  Carat Weight  Length/Width Ratio  \\\n",
       "count    6480   2182  6480    6480   6480.000000         6480.000000   \n",
       "unique     11      4     5       6           NaN                 NaN   \n",
       "top     Round  Ideal     E     VS1           NaN                 NaN   \n",
       "freq      888   1310  1884    3337           NaN                 NaN   \n",
       "mean      NaN    NaN   NaN     NaN      1.235772            1.329548   \n",
       "std       NaN    NaN   NaN     NaN      0.506647            0.325707   \n",
       "min       NaN    NaN   NaN     NaN      1.000000            1.000000   \n",
       "25%       NaN    NaN   NaN     NaN      1.010000            1.020000   \n",
       "50%       NaN    NaN   NaN     NaN      1.030000            1.270000   \n",
       "75%       NaN    NaN   NaN     NaN      1.200000            1.510000   \n",
       "max       NaN    NaN   NaN     NaN      9.380000            2.580000   \n",
       "\n",
       "            Depth %      Table %     Polish   Symmetry  \\\n",
       "count   6478.000000  6468.000000       6465       6465   \n",
       "unique          NaN          NaN          3          3   \n",
       "top             NaN          NaN  Excellent  Excellent   \n",
       "freq            NaN          NaN       5939       4551   \n",
       "mean      64.206499    61.828541        NaN        NaN   \n",
       "std        4.773192     4.760197        NaN        NaN   \n",
       "min       46.100000    51.000000        NaN        NaN   \n",
       "25%       61.200000    58.000000        NaN        NaN   \n",
       "50%       63.100000    61.000000        NaN        NaN   \n",
       "75%       67.600000    65.000000        NaN        NaN   \n",
       "max       77.000000    78.000000        NaN        NaN   \n",
       "\n",
       "                          Girdle    Culet       Length        Width  \\\n",
       "count                       6463     1891  6465.000000  6465.000000   \n",
       "unique                        29        5          NaN          NaN   \n",
       "top     Medium to Slightly Thick  Pointed          NaN          NaN   \n",
       "freq                        1713     1861          NaN          NaN   \n",
       "mean                         NaN      NaN     7.663595     6.098323   \n",
       "std                          NaN      NaN     1.674665     1.151152   \n",
       "min                          NaN      NaN     5.180000     4.420000   \n",
       "25%                          NaN      NaN     6.330000     5.390000   \n",
       "50%                          NaN      NaN     7.420000     5.640000   \n",
       "75%                          NaN      NaN     8.660000     6.610000   \n",
       "max                          NaN      NaN    15.210000    14.880000   \n",
       "\n",
       "             Height         Price  Type Fluorescence  \n",
       "count   6465.000000   6485.000000  6485         1221  \n",
       "unique          NaN           NaN     3            3  \n",
       "top             NaN           NaN   GIA        Faint  \n",
       "freq            NaN           NaN  3355          695  \n",
       "mean       3.885708   3529.391365   NaN          NaN  \n",
       "std        0.599420   3280.439167   NaN          NaN  \n",
       "min        2.670000   1010.000000   NaN          NaN  \n",
       "25%        3.460000   1210.000000   NaN          NaN  \n",
       "50%        3.670000   3320.000000   NaN          NaN  \n",
       "75%        4.100000   4390.000000   NaN          NaN  \n",
       "max        8.170000  39460.000000   NaN          NaN  "
      ]
     },
     "execution_count": 149,
     "metadata": {},
     "output_type": "execute_result"
    }
   ],
   "source": [
    "df.describe(include='all')"
   ]
  },
  {
   "cell_type": "code",
   "execution_count": 150,
   "metadata": {},
   "outputs": [
    {
     "name": "stdout",
     "output_type": "stream",
     "text": [
      "<class 'pandas.core.frame.DataFrame'>\n",
      "RangeIndex: 6485 entries, 0 to 6484\n",
      "Data columns (total 18 columns):\n",
      " #   Column              Non-Null Count  Dtype  \n",
      "---  ------              --------------  -----  \n",
      " 0   Shape               6480 non-null   object \n",
      " 1   Cut                 2182 non-null   object \n",
      " 2   Color               6480 non-null   object \n",
      " 3   Clarity             6480 non-null   object \n",
      " 4   Carat Weight        6480 non-null   float64\n",
      " 5   Length/Width Ratio  6480 non-null   float64\n",
      " 6   Depth %             6478 non-null   float64\n",
      " 7   Table %             6468 non-null   float64\n",
      " 8   Polish              6465 non-null   object \n",
      " 9   Symmetry            6465 non-null   object \n",
      " 10  Girdle              6463 non-null   object \n",
      " 11  Culet               1891 non-null   object \n",
      " 12  Length              6465 non-null   float64\n",
      " 13  Width               6465 non-null   float64\n",
      " 14  Height              6465 non-null   float64\n",
      " 15  Price               6485 non-null   int64  \n",
      " 16  Type                6485 non-null   object \n",
      " 17  Fluorescence        1221 non-null   object \n",
      "dtypes: float64(7), int64(1), object(10)\n",
      "memory usage: 912.1+ KB\n"
     ]
    }
   ],
   "source": [
    "df.info()"
   ]
  },
  {
   "cell_type": "code",
   "execution_count": 151,
   "metadata": {},
   "outputs": [],
   "source": [
    "missing_data = df.isnull()"
   ]
  },
  {
   "cell_type": "code",
   "execution_count": 152,
   "metadata": {},
   "outputs": [],
   "source": [
    "missing_data = missing_data.sum()"
   ]
  },
  {
   "cell_type": "code",
   "execution_count": 153,
   "metadata": {},
   "outputs": [
    {
     "data": {
      "text/plain": [
       "Shape                    5\n",
       "Cut                   4303\n",
       "Color                    5\n",
       "Clarity                  5\n",
       "Carat Weight             5\n",
       "Length/Width Ratio       5\n",
       "Depth %                  7\n",
       "Table %                 17\n",
       "Polish                  20\n",
       "Symmetry                20\n",
       "Girdle                  22\n",
       "Culet                 4594\n",
       "Length                  20\n",
       "Width                   20\n",
       "Height                  20\n",
       "Price                    0\n",
       "Type                     0\n",
       "Fluorescence          5264\n",
       "dtype: int64"
      ]
     },
     "execution_count": 153,
     "metadata": {},
     "output_type": "execute_result"
    }
   ],
   "source": [
    "missing_data"
   ]
  },
  {
   "cell_type": "code",
   "execution_count": 154,
   "metadata": {},
   "outputs": [
    {
     "data": {
      "text/plain": [
       "Shape\n",
       "Round               888\n",
       "Pear                840\n",
       "Marquise            835\n",
       "Princess            833\n",
       "Oval                828\n",
       "Heart               827\n",
       "Radiant             801\n",
       "Cushion Modified    365\n",
       "Emerald             137\n",
       "Cushion              91\n",
       "Square Radiant       35\n",
       "Name: count, dtype: int64"
      ]
     },
     "execution_count": 154,
     "metadata": {},
     "output_type": "execute_result"
    }
   ],
   "source": [
    "df['Shape'].value_counts()"
   ]
  },
  {
   "cell_type": "code",
   "execution_count": 155,
   "metadata": {},
   "outputs": [
    {
     "data": {
      "text/plain": [
       "Shape                    5\n",
       "Cut                   4303\n",
       "Color                    5\n",
       "Clarity                  5\n",
       "Carat Weight             5\n",
       "Length/Width Ratio       5\n",
       "Depth %                  7\n",
       "Table %                 17\n",
       "Polish                  20\n",
       "Symmetry                20\n",
       "Girdle                  22\n",
       "Culet                 4594\n",
       "Length                  20\n",
       "Width                   20\n",
       "Height                  20\n",
       "Price                    0\n",
       "Type                     0\n",
       "Fluorescence          5264\n",
       "dtype: int64"
      ]
     },
     "execution_count": 155,
     "metadata": {},
     "output_type": "execute_result"
    }
   ],
   "source": [
    "missing_data"
   ]
  },
  {
   "cell_type": "code",
   "execution_count": 156,
   "metadata": {},
   "outputs": [
    {
     "name": "stdout",
     "output_type": "stream",
     "text": [
      "3.885707656612529 6.098323279195668 7.663594740912607 61.82854050711194 64.20649891941957\n"
     ]
    }
   ],
   "source": [
    "#Replacing continuous numeric data with their means\n",
    "mean_height = df['Height'].mean()\n",
    "df['Height'].replace(np.nan, mean_height, inplace=True)\n",
    "\n",
    "mean_width = df['Width'].mean()\n",
    "df['Width'].replace(np.nan, mean_width, inplace=True)\n",
    "\n",
    "mean_length = df['Length'].mean()\n",
    "df['Length'].replace(np.nan, mean_length, inplace=True)\n",
    "\n",
    "mean_table = df['Table %'].mean()\n",
    "df['Table %'].replace(np.nan, mean_table, inplace=True)\n",
    "\n",
    "mean_depth = df['Depth %'].mean()\n",
    "df['Depth %'].replace(np.nan, mean_depth, inplace=True)\n",
    "\n",
    "print(mean_height, mean_width, mean_length, mean_table, mean_depth)"
   ]
  },
  {
   "cell_type": "code",
   "execution_count": 157,
   "metadata": {},
   "outputs": [],
   "source": [
    "#calculating and replacing missing values in length/width ratio\n",
    "df['Length/Width Ratio'].fillna(df['Length']/df['Width'], inplace=True)"
   ]
  },
  {
   "cell_type": "code",
   "execution_count": 158,
   "metadata": {},
   "outputs": [
    {
     "data": {
      "text/plain": [
       "Shape                    5\n",
       "Cut                   4303\n",
       "Color                    5\n",
       "Clarity                  5\n",
       "Carat Weight             5\n",
       "Length/Width Ratio       0\n",
       "Depth %                  0\n",
       "Table %                  0\n",
       "Polish                  20\n",
       "Symmetry                20\n",
       "Girdle                  22\n",
       "Culet                 4594\n",
       "Length                   0\n",
       "Width                    0\n",
       "Height                   0\n",
       "Price                    0\n",
       "Type                     0\n",
       "Fluorescence          5264\n",
       "dtype: int64"
      ]
     },
     "execution_count": 158,
     "metadata": {},
     "output_type": "execute_result"
    }
   ],
   "source": [
    "missing_data = df.isnull()\n",
    "missing_data = missing_data.sum()\n",
    "missing_data"
   ]
  },
  {
   "cell_type": "code",
   "execution_count": 159,
   "metadata": {},
   "outputs": [
    {
     "data": {
      "text/plain": [
       "Polish\n",
       "Excellent    5939\n",
       "Very Good     492\n",
       "Good           34\n",
       "Name: count, dtype: int64"
      ]
     },
     "execution_count": 159,
     "metadata": {},
     "output_type": "execute_result"
    }
   ],
   "source": [
    "df['Polish'].value_counts()"
   ]
  },
  {
   "cell_type": "code",
   "execution_count": 160,
   "metadata": {},
   "outputs": [
    {
     "name": "stdout",
     "output_type": "stream",
     "text": [
      "Excellent\n"
     ]
    }
   ],
   "source": [
    "top_polish = df['Polish'].value_counts().idxmax()\n",
    "print(top_polish)"
   ]
  },
  {
   "cell_type": "code",
   "execution_count": 161,
   "metadata": {},
   "outputs": [],
   "source": [
    "#Replacing Categorical Variables with the most repeated values\n",
    "df['Polish'].replace(np.nan, top_polish, inplace=True)"
   ]
  },
  {
   "cell_type": "code",
   "execution_count": 162,
   "metadata": {},
   "outputs": [
    {
     "data": {
      "text/plain": [
       "Symmetry\n",
       "Excellent    4551\n",
       "Very Good    1790\n",
       "Good          124\n",
       "Name: count, dtype: int64"
      ]
     },
     "execution_count": 162,
     "metadata": {},
     "output_type": "execute_result"
    }
   ],
   "source": [
    "df['Symmetry'].value_counts()"
   ]
  },
  {
   "cell_type": "code",
   "execution_count": 163,
   "metadata": {},
   "outputs": [],
   "source": [
    "top_symmetry = df['Symmetry'].value_counts().idxmax()\n",
    "df['Symmetry'].replace(np.nan, top_symmetry, inplace=True)"
   ]
  },
  {
   "cell_type": "code",
   "execution_count": 164,
   "metadata": {},
   "outputs": [
    {
     "data": {
      "text/plain": [
       "Girdle\n",
       "Medium to Slightly Thick             1713\n",
       "Slightly Thick to Thick               986\n",
       "Medium to Thick                       672\n",
       "Thick to Very Thick                   585\n",
       "Medium                                582\n",
       "Slightly Thick to Very Thick          526\n",
       "Medium to Very Thick                  229\n",
       "Slightly Thick                        224\n",
       "Thick                                 199\n",
       "Thin to Medium                        165\n",
       "Thin to Slightly Thick                120\n",
       "Thin to Thick                          95\n",
       "Very Thick                             85\n",
       "Thick to Extremely Thick               58\n",
       "Very Thick to Extremely Thick          46\n",
       "Thin to Very Thick                     41\n",
       "Slightly Thick to Extremely Thick      38\n",
       "Medium to Extremely Thick              30\n",
       "Thin                                   16\n",
       "Very Thin to Very Thick                14\n",
       "Thin to Extremely Thick                13\n",
       "Very Thin to Thick                      8\n",
       "Extremely Thick                         8\n",
       "Very Thin to Slightly Thick             4\n",
       "Extremely Thin to Medium                2\n",
       "Slightly Thick to Slightly Thick        1\n",
       "Very Thin to Extremely Thick            1\n",
       "Extremely Thin to Extremely Thick       1\n",
       "Extremely Thin to Slightly Thick        1\n",
       "Name: count, dtype: int64"
      ]
     },
     "execution_count": 164,
     "metadata": {},
     "output_type": "execute_result"
    }
   ],
   "source": [
    "df['Girdle'].value_counts()"
   ]
  },
  {
   "cell_type": "code",
   "execution_count": 165,
   "metadata": {},
   "outputs": [],
   "source": [
    "top_girdle = df['Girdle'].value_counts().idxmax()\n",
    "df['Girdle'].replace(np.nan, top_girdle, inplace=True)"
   ]
  },
  {
   "cell_type": "code",
   "execution_count": 166,
   "metadata": {},
   "outputs": [
    {
     "data": {
      "text/plain": [
       "Shape                    5\n",
       "Cut                   4303\n",
       "Color                    5\n",
       "Clarity                  5\n",
       "Carat Weight             5\n",
       "Length/Width Ratio       0\n",
       "Depth %                  0\n",
       "Table %                  0\n",
       "Polish                   0\n",
       "Symmetry                 0\n",
       "Girdle                   0\n",
       "Culet                 4594\n",
       "Length                   0\n",
       "Width                    0\n",
       "Height                   0\n",
       "Price                    0\n",
       "Type                     0\n",
       "Fluorescence          5264\n",
       "dtype: int64"
      ]
     },
     "execution_count": 166,
     "metadata": {},
     "output_type": "execute_result"
    }
   ],
   "source": [
    "missing_data = df.isnull()\n",
    "missing_data = missing_data.sum()\n",
    "missing_data"
   ]
  },
  {
   "cell_type": "code",
   "execution_count": 167,
   "metadata": {},
   "outputs": [
    {
     "data": {
      "text/plain": [
       "Color\n",
       "E    1884\n",
       "D    1772\n",
       "H    1117\n",
       "F     969\n",
       "G     738\n",
       "Name: count, dtype: int64"
      ]
     },
     "execution_count": 167,
     "metadata": {},
     "output_type": "execute_result"
    }
   ],
   "source": [
    "df['Color'].value_counts()"
   ]
  },
  {
   "cell_type": "code",
   "execution_count": 168,
   "metadata": {},
   "outputs": [],
   "source": [
    "top_color = df['Color'].value_counts().idxmax()\n",
    "df['Color'].replace(np.nan, top_color, inplace=True)"
   ]
  },
  {
   "cell_type": "code",
   "execution_count": 169,
   "metadata": {},
   "outputs": [
    {
     "data": {
      "text/plain": [
       "Clarity\n",
       "VS1     3337\n",
       "VS2     1433\n",
       "VVS2    1061\n",
       "VVS1     480\n",
       "IF       163\n",
       "FL         6\n",
       "Name: count, dtype: int64"
      ]
     },
     "execution_count": 169,
     "metadata": {},
     "output_type": "execute_result"
    }
   ],
   "source": [
    "df['Clarity'].value_counts()"
   ]
  },
  {
   "cell_type": "code",
   "execution_count": 170,
   "metadata": {},
   "outputs": [],
   "source": [
    "top_clarity = df['Clarity'].value_counts().idxmax()\n",
    "df['Clarity'].replace(np.nan, top_clarity, inplace=True)"
   ]
  },
  {
   "cell_type": "code",
   "execution_count": 171,
   "metadata": {},
   "outputs": [
    {
     "name": "stdout",
     "output_type": "stream",
     "text": [
      "1.2357716049382717\n"
     ]
    }
   ],
   "source": [
    "mean_carat = df['Carat Weight'].mean()\n",
    "print(mean_carat)\n",
    "df['Carat Weight'].replace(np.nan, mean_carat, inplace=True)"
   ]
  },
  {
   "cell_type": "code",
   "execution_count": 172,
   "metadata": {},
   "outputs": [
    {
     "data": {
      "text/plain": [
       "Shape                    5\n",
       "Cut                   4303\n",
       "Color                    0\n",
       "Clarity                  0\n",
       "Carat Weight             0\n",
       "Length/Width Ratio       0\n",
       "Depth %                  0\n",
       "Table %                  0\n",
       "Polish                   0\n",
       "Symmetry                 0\n",
       "Girdle                   0\n",
       "Culet                 4594\n",
       "Length                   0\n",
       "Width                    0\n",
       "Height                   0\n",
       "Price                    0\n",
       "Type                     0\n",
       "Fluorescence          5264\n",
       "dtype: int64"
      ]
     },
     "execution_count": 172,
     "metadata": {},
     "output_type": "execute_result"
    }
   ],
   "source": [
    "missing_data = df.isnull().sum()\n",
    "missing_data"
   ]
  },
  {
   "cell_type": "code",
   "execution_count": 173,
   "metadata": {},
   "outputs": [
    {
     "data": {
      "text/plain": [
       "Shape\n",
       "Round               888\n",
       "Pear                840\n",
       "Marquise            835\n",
       "Princess            833\n",
       "Oval                828\n",
       "Heart               827\n",
       "Radiant             801\n",
       "Cushion Modified    365\n",
       "Emerald             137\n",
       "Cushion              91\n",
       "Square Radiant       35\n",
       "Name: count, dtype: int64"
      ]
     },
     "execution_count": 173,
     "metadata": {},
     "output_type": "execute_result"
    }
   ],
   "source": [
    "df['Shape'].value_counts()"
   ]
  },
  {
   "cell_type": "code",
   "execution_count": 174,
   "metadata": {},
   "outputs": [],
   "source": [
    "top_shape = df['Shape'].value_counts().idxmax()\n",
    "df['Shape'].replace(np.nan, top_shape, inplace=True)"
   ]
  },
  {
   "cell_type": "code",
   "execution_count": 175,
   "metadata": {},
   "outputs": [
    {
     "data": {
      "text/plain": [
       "Fluorescence\n",
       "Faint     695\n",
       "Medium    311\n",
       "Strong    215\n",
       "Name: count, dtype: int64"
      ]
     },
     "execution_count": 175,
     "metadata": {},
     "output_type": "execute_result"
    }
   ],
   "source": [
    "df['Fluorescence'].value_counts()"
   ]
  },
  {
   "cell_type": "code",
   "execution_count": 176,
   "metadata": {},
   "outputs": [],
   "source": [
    "#In fluorecence and cutlet, Pandas is reading None as a NULL value. So, replacing None with some other meaningful value\n",
    "df['Fluorescence'].replace(np.nan, \"No Fluorescence\", inplace=True)\n"
   ]
  },
  {
   "cell_type": "code",
   "execution_count": 177,
   "metadata": {},
   "outputs": [
    {
     "data": {
      "text/plain": [
       "Culet\n",
       "Pointed       1861\n",
       "Very Small      18\n",
       "Small           10\n",
       "Medium           1\n",
       "Very Large       1\n",
       "Name: count, dtype: int64"
      ]
     },
     "execution_count": 177,
     "metadata": {},
     "output_type": "execute_result"
    }
   ],
   "source": [
    "df['Culet'].value_counts()"
   ]
  },
  {
   "cell_type": "code",
   "execution_count": 178,
   "metadata": {},
   "outputs": [],
   "source": [
    "df['Culet'].replace(np.nan, \"No Culet\", inplace=True)"
   ]
  },
  {
   "cell_type": "code",
   "execution_count": 179,
   "metadata": {},
   "outputs": [
    {
     "data": {
      "text/plain": [
       "Shape                    0\n",
       "Cut                   4303\n",
       "Color                    0\n",
       "Clarity                  0\n",
       "Carat Weight             0\n",
       "Length/Width Ratio       0\n",
       "Depth %                  0\n",
       "Table %                  0\n",
       "Polish                   0\n",
       "Symmetry                 0\n",
       "Girdle                   0\n",
       "Culet                    0\n",
       "Length                   0\n",
       "Width                    0\n",
       "Height                   0\n",
       "Price                    0\n",
       "Type                     0\n",
       "Fluorescence             0\n",
       "dtype: int64"
      ]
     },
     "execution_count": 179,
     "metadata": {},
     "output_type": "execute_result"
    }
   ],
   "source": [
    "missing_data = df.isnull().sum()\n",
    "missing_data"
   ]
  },
  {
   "cell_type": "markdown",
   "metadata": {},
   "source": [
    "More than Half the Data for the 'Cut' column is missing. So, we can't make any assumption there"
   ]
  },
  {
   "cell_type": "code",
   "execution_count": 180,
   "metadata": {},
   "outputs": [
    {
     "data": {
      "text/plain": [
       "(0.0, 41382.5)"
      ]
     },
     "execution_count": 180,
     "metadata": {},
     "output_type": "execute_result"
    },
    {
     "data": {
      "image/png": "[encoded data removed]",
      "text/plain": [
       "<Figure size 640x480 with 1 Axes>"
      ]
     },
     "metadata": {},
     "output_type": "display_data"
    }
   ],
   "source": [
    "sns.regplot(x='Carat Weight', y='Price', data=df)\n",
    "plt.ylim(0, )"
   ]
  },
  {
   "cell_type": "code",
   "execution_count": 181,
   "metadata": {},
   "outputs": [
    {
     "data": {
      "text/plain": [
       "(0.0, 41382.5)"
      ]
     },
     "execution_count": 181,
     "metadata": {},
     "output_type": "execute_result"
    },
    {
     "data": {
      "image/png": "[encoded data removed]",
      "text/plain": [
       "<Figure size 640x480 with 1 Axes>"
      ]
     },
     "metadata": {},
     "output_type": "display_data"
    }
   ],
   "source": [
    "sns.regplot(x='Length/Width Ratio', y='Price', data=df)\n",
    "plt.ylim(0, )"
   ]
  },
  {
   "cell_type": "code",
   "execution_count": 182,
   "metadata": {},
   "outputs": [
    {
     "data": {
      "text/plain": [
       "(0.0, 41382.5)"
      ]
     },
     "execution_count": 182,
     "metadata": {},
     "output_type": "execute_result"
    },
    {
     "data": {
      "image/png": "[encoded data removed]",
      "text/plain": [
       "<Figure size 640x480 with 1 Axes>"
      ]
     },
     "metadata": {},
     "output_type": "display_data"
    }
   ],
   "source": [
    "sns.regplot(x='Depth %', y='Price', data=df)\n",
    "plt.ylim(0, )"
   ]
  },
  {
   "cell_type": "code",
   "execution_count": 183,
   "metadata": {},
   "outputs": [
    {
     "data": {
      "text/plain": [
       "(0.0, 41382.5)"
      ]
     },
     "execution_count": 183,
     "metadata": {},
     "output_type": "execute_result"
    },
    {
     "data": {
      "image/png": "[encoded data removed]",
      "text/plain": [
       "<Figure size 640x480 with 1 Axes>"
      ]
     },
     "metadata": {},
     "output_type": "display_data"
    }
   ],
   "source": [
    "sns.regplot(x='Table %', y='Price', data=df)\n",
    "plt.ylim(0, )"
   ]
  },
  {
   "cell_type": "code",
   "execution_count": 184,
   "metadata": {},
   "outputs": [
    {
     "data": {
      "text/html": [
       "<div>\n",
       "<style scoped>\n",
       "    .dataframe tbody tr th:only-of-type {\n",
       "        vertical-align: middle;\n",
       "    }\n",
       "\n",
       "    .dataframe tbody tr th {\n",
       "        vertical-align: top;\n",
       "    }\n",
       "\n",
       "    .dataframe thead th {\n",
       "        text-align: right;\n",
       "    }\n",
       "</style>\n",
       "<table border=\"1\" class=\"dataframe\">\n",
       "  <thead>\n",
       "    <tr style=\"text-align: right;\">\n",
       "      <th></th>\n",
       "      <th>Carat Weight</th>\n",
       "      <th>Length/Width Ratio</th>\n",
       "      <th>Depth %</th>\n",
       "      <th>Table %</th>\n",
       "      <th>Length</th>\n",
       "      <th>Width</th>\n",
       "      <th>Height</th>\n",
       "      <th>Price</th>\n",
       "    </tr>\n",
       "  </thead>\n",
       "  <tbody>\n",
       "    <tr>\n",
       "      <th>Carat Weight</th>\n",
       "      <td>1.000000</td>\n",
       "      <td>-0.214099</td>\n",
       "      <td>-0.243073</td>\n",
       "      <td>-0.163131</td>\n",
       "      <td>0.224546</td>\n",
       "      <td>0.818395</td>\n",
       "      <td>0.831986</td>\n",
       "      <td>0.368719</td>\n",
       "    </tr>\n",
       "    <tr>\n",
       "      <th>Length/Width Ratio</th>\n",
       "      <td>-0.214099</td>\n",
       "      <td>1.000000</td>\n",
       "      <td>-0.276415</td>\n",
       "      <td>-0.257135</td>\n",
       "      <td>0.855254</td>\n",
       "      <td>-0.420524</td>\n",
       "      <td>-0.612383</td>\n",
       "      <td>0.151845</td>\n",
       "    </tr>\n",
       "    <tr>\n",
       "      <th>Depth %</th>\n",
       "      <td>-0.243073</td>\n",
       "      <td>-0.276415</td>\n",
       "      <td>1.000000</td>\n",
       "      <td>0.685041</td>\n",
       "      <td>-0.497492</td>\n",
       "      <td>-0.514348</td>\n",
       "      <td>-0.134554</td>\n",
       "      <td>-0.183573</td>\n",
       "    </tr>\n",
       "    <tr>\n",
       "      <th>Table %</th>\n",
       "      <td>-0.163131</td>\n",
       "      <td>-0.257135</td>\n",
       "      <td>0.685041</td>\n",
       "      <td>1.000000</td>\n",
       "      <td>-0.457048</td>\n",
       "      <td>-0.352808</td>\n",
       "      <td>-0.112805</td>\n",
       "      <td>-0.097978</td>\n",
       "    </tr>\n",
       "    <tr>\n",
       "      <th>Length</th>\n",
       "      <td>0.224546</td>\n",
       "      <td>0.855254</td>\n",
       "      <td>-0.497492</td>\n",
       "      <td>-0.457048</td>\n",
       "      <td>1.000000</td>\n",
       "      <td>0.015194</td>\n",
       "      <td>-0.201180</td>\n",
       "      <td>0.313926</td>\n",
       "    </tr>\n",
       "    <tr>\n",
       "      <th>Width</th>\n",
       "      <td>0.818395</td>\n",
       "      <td>-0.420524</td>\n",
       "      <td>-0.514348</td>\n",
       "      <td>-0.352808</td>\n",
       "      <td>0.015194</td>\n",
       "      <td>1.000000</td>\n",
       "      <td>0.915727</td>\n",
       "      <td>0.260461</td>\n",
       "    </tr>\n",
       "    <tr>\n",
       "      <th>Height</th>\n",
       "      <td>0.831986</td>\n",
       "      <td>-0.612383</td>\n",
       "      <td>-0.134554</td>\n",
       "      <td>-0.112805</td>\n",
       "      <td>-0.201180</td>\n",
       "      <td>0.915727</td>\n",
       "      <td>1.000000</td>\n",
       "      <td>0.217335</td>\n",
       "    </tr>\n",
       "    <tr>\n",
       "      <th>Price</th>\n",
       "      <td>0.368719</td>\n",
       "      <td>0.151845</td>\n",
       "      <td>-0.183573</td>\n",
       "      <td>-0.097978</td>\n",
       "      <td>0.313926</td>\n",
       "      <td>0.260461</td>\n",
       "      <td>0.217335</td>\n",
       "      <td>1.000000</td>\n",
       "    </tr>\n",
       "  </tbody>\n",
       "</table>\n",
       "</div>"
      ],
      "text/plain": [
       "                    Carat Weight  Length/Width Ratio   Depth %   Table %  \\\n",
       "Carat Weight            1.000000           -0.214099 -0.243073 -0.163131   \n",
       "Length/Width Ratio     -0.214099            1.000000 -0.276415 -0.257135   \n",
       "Depth %                -0.243073           -0.276415  1.000000  0.685041   \n",
       "Table %                -0.163131           -0.257135  0.685041  1.000000   \n",
       "Length                  0.224546            0.855254 -0.497492 -0.457048   \n",
       "Width                   0.818395           -0.420524 -0.514348 -0.352808   \n",
       "Height                  0.831986           -0.612383 -0.134554 -0.112805   \n",
       "Price                   0.368719            0.151845 -0.183573 -0.097978   \n",
       "\n",
       "                      Length     Width    Height     Price  \n",
       "Carat Weight        0.224546  0.818395  0.831986  0.368719  \n",
       "Length/Width Ratio  0.855254 -0.420524 -0.612383  0.151845  \n",
       "Depth %            -0.497492 -0.514348 -0.134554 -0.183573  \n",
       "Table %            -0.457048 -0.352808 -0.112805 -0.097978  \n",
       "Length              1.000000  0.015194 -0.201180  0.313926  \n",
       "Width               0.015194  1.000000  0.915727  0.260461  \n",
       "Height             -0.201180  0.915727  1.000000  0.217335  \n",
       "Price               0.313926  0.260461  0.217335  1.000000  "
      ]
     },
     "execution_count": 184,
     "metadata": {},
     "output_type": "execute_result"
    }
   ],
   "source": [
    "df[['Carat Weight', 'Length/Width Ratio', 'Depth %', 'Table %', 'Length', 'Width', 'Height', 'Price']].corr()"
   ]
  },
  {
   "cell_type": "markdown",
   "metadata": {},
   "source": [
    "As shown by correlation matrix, no individual continuous variable has a drastic impact on the price of diamond."
   ]
  },
  {
   "cell_type": "code",
   "execution_count": 185,
   "metadata": {},
   "outputs": [
    {
     "data": {
      "text/plain": [
       "<Axes: xlabel='Color', ylabel='Price'>"
      ]
     },
     "execution_count": 185,
     "metadata": {},
     "output_type": "execute_result"
    },
    {
     "data": {
      "image/png": "[encoded data removed]",
      "text/plain": [
       "<Figure size 640x480 with 1 Axes>"
      ]
     },
     "metadata": {},
     "output_type": "display_data"
    }
   ],
   "source": [
    "sns.boxplot(x='Color', y='Price', data=df)"
   ]
  },
  {
   "cell_type": "code",
   "execution_count": 186,
   "metadata": {},
   "outputs": [
    {
     "data": {
      "text/plain": [
       "<Axes: xlabel='Symmetry', ylabel='Price'>"
      ]
     },
     "execution_count": 186,
     "metadata": {},
     "output_type": "execute_result"
    },
    {
     "data": {
      "image/png": "[encoded data removed]",
      "text/plain": [
       "<Figure size 640x480 with 1 Axes>"
      ]
     },
     "metadata": {},
     "output_type": "display_data"
    }
   ],
   "source": [
    "sns.boxplot(x='Symmetry', y='Price', data=df)"
   ]
  },
  {
   "cell_type": "code",
   "execution_count": 187,
   "metadata": {},
   "outputs": [
    {
     "data": {
      "text/plain": [
       "<Axes: xlabel='Clarity', ylabel='Price'>"
      ]
     },
     "execution_count": 187,
     "metadata": {},
     "output_type": "execute_result"
    },
    {
     "data": {
      "image/png": "[encoded data removed]",
      "text/plain": [
       "<Figure size 640x480 with 1 Axes>"
      ]
     },
     "metadata": {},
     "output_type": "display_data"
    }
   ],
   "source": [
    "sns.boxplot(x='Clarity', y='Price', data=df)"
   ]
  },
  {
   "cell_type": "code",
   "execution_count": 188,
   "metadata": {},
   "outputs": [
    {
     "data": {
      "text/plain": [
       "<Axes: xlabel='Polish', ylabel='Price'>"
      ]
     },
     "execution_count": 188,
     "metadata": {},
     "output_type": "execute_result"
    },
    {
     "data": {
      "image/png": "[encoded data removed]",
      "text/plain": [
       "<Figure size 640x480 with 1 Axes>"
      ]
     },
     "metadata": {},
     "output_type": "display_data"
    }
   ],
   "source": [
    "sns.boxplot(x='Polish', y='Price', data=df)"
   ]
  },
  {
   "cell_type": "code",
   "execution_count": 189,
   "metadata": {},
   "outputs": [
    {
     "data": {
      "text/plain": [
       "<Axes: xlabel='Symmetry', ylabel='Price'>"
      ]
     },
     "execution_count": 189,
     "metadata": {},
     "output_type": "execute_result"
    },
    {
     "data": {
      "image/png": "[encoded data removed]",
      "text/plain": [
       "<Figure size 640x480 with 1 Axes>"
      ]
     },
     "metadata": {},
     "output_type": "display_data"
    }
   ],
   "source": [
    "sns.boxplot(x='Symmetry', y='Price', data=df)"
   ]
  },
  {
   "cell_type": "code",
   "execution_count": 190,
   "metadata": {},
   "outputs": [
    {
     "data": {
      "text/plain": [
       "<Axes: xlabel='Culet', ylabel='Price'>"
      ]
     },
     "execution_count": 190,
     "metadata": {},
     "output_type": "execute_result"
    },
    {
     "data": {
      "image/png": "[encoded data removed]",
      "text/plain": [
       "<Figure size 640x480 with 1 Axes>"
      ]
     },
     "metadata": {},
     "output_type": "display_data"
    }
   ],
   "source": [
    "sns.boxplot(x='Culet', y='Price', data=df)"
   ]
  },
  {
   "cell_type": "code",
   "execution_count": 191,
   "metadata": {},
   "outputs": [
    {
     "data": {
      "text/plain": [
       "<Axes: xlabel='Type', ylabel='Price'>"
      ]
     },
     "execution_count": 191,
     "metadata": {},
     "output_type": "execute_result"
    },
    {
     "data": {
      "image/png": "[encoded data removed]",
      "text/plain": [
       "<Figure size 640x480 with 1 Axes>"
      ]
     },
     "metadata": {},
     "output_type": "display_data"
    }
   ],
   "source": [
    "sns.boxplot(x='Type', y='Price', data=df)"
   ]
  },
  {
   "cell_type": "code",
   "execution_count": 192,
   "metadata": {},
   "outputs": [
    {
     "data": {
      "text/plain": [
       "<Axes: xlabel='Fluorescence', ylabel='Price'>"
      ]
     },
     "execution_count": 192,
     "metadata": {},
     "output_type": "execute_result"
    },
    {
     "data": {
      "image/png": "[encoded data removed]",
      "text/plain": [
       "<Figure size 640x480 with 1 Axes>"
      ]
     },
     "metadata": {},
     "output_type": "display_data"
    }
   ],
   "source": [
    "sns.boxplot(x='Fluorescence', y='Price', data=df)"
   ]
  },
  {
   "cell_type": "code",
   "execution_count": 193,
   "metadata": {},
   "outputs": [
    {
     "data": {
      "text/plain": [
       "<Axes: xlabel='Girdle', ylabel='Price'>"
      ]
     },
     "execution_count": 193,
     "metadata": {},
     "output_type": "execute_result"
    },
    {
     "data": {
      "image/png": "[encoded data removed]",
      "text/plain": [
       "<Figure size 640x480 with 1 Axes>"
      ]
     },
     "metadata": {},
     "output_type": "display_data"
    }
   ],
   "source": [
    "sns.boxplot(x='Girdle', y='Price', data=df)"
   ]
  },
  {
   "cell_type": "markdown",
   "metadata": {},
   "source": [
    "One Hot encoding method is used to utilize columns with categorical data"
   ]
  },
  {
   "cell_type": "code",
   "execution_count": 194,
   "metadata": {},
   "outputs": [
    {
     "data": {
      "text/html": [
       "<div>\n",
       "<style scoped>\n",
       "    .dataframe tbody tr th:only-of-type {\n",
       "        vertical-align: middle;\n",
       "    }\n",
       "\n",
       "    .dataframe tbody tr th {\n",
       "        vertical-align: top;\n",
       "    }\n",
       "\n",
       "    .dataframe thead th {\n",
       "        text-align: right;\n",
       "    }\n",
       "</style>\n",
       "<table border=\"1\" class=\"dataframe\">\n",
       "  <thead>\n",
       "    <tr style=\"text-align: right;\">\n",
       "      <th></th>\n",
       "      <th>FL</th>\n",
       "      <th>IF</th>\n",
       "      <th>VS1</th>\n",
       "      <th>VS2</th>\n",
       "      <th>VVS1</th>\n",
       "      <th>VVS2</th>\n",
       "    </tr>\n",
       "  </thead>\n",
       "  <tbody>\n",
       "    <tr>\n",
       "      <th>0</th>\n",
       "      <td>False</td>\n",
       "      <td>False</td>\n",
       "      <td>False</td>\n",
       "      <td>False</td>\n",
       "      <td>False</td>\n",
       "      <td>True</td>\n",
       "    </tr>\n",
       "    <tr>\n",
       "      <th>1</th>\n",
       "      <td>False</td>\n",
       "      <td>False</td>\n",
       "      <td>True</td>\n",
       "      <td>False</td>\n",
       "      <td>False</td>\n",
       "      <td>False</td>\n",
       "    </tr>\n",
       "    <tr>\n",
       "      <th>2</th>\n",
       "      <td>False</td>\n",
       "      <td>False</td>\n",
       "      <td>True</td>\n",
       "      <td>False</td>\n",
       "      <td>False</td>\n",
       "      <td>False</td>\n",
       "    </tr>\n",
       "    <tr>\n",
       "      <th>3</th>\n",
       "      <td>False</td>\n",
       "      <td>True</td>\n",
       "      <td>False</td>\n",
       "      <td>False</td>\n",
       "      <td>False</td>\n",
       "      <td>False</td>\n",
       "    </tr>\n",
       "    <tr>\n",
       "      <th>4</th>\n",
       "      <td>False</td>\n",
       "      <td>False</td>\n",
       "      <td>True</td>\n",
       "      <td>False</td>\n",
       "      <td>False</td>\n",
       "      <td>False</td>\n",
       "    </tr>\n",
       "  </tbody>\n",
       "</table>\n",
       "</div>"
      ],
      "text/plain": [
       "      FL     IF    VS1    VS2   VVS1   VVS2\n",
       "0  False  False  False  False  False   True\n",
       "1  False  False   True  False  False  False\n",
       "2  False  False   True  False  False  False\n",
       "3  False   True  False  False  False  False\n",
       "4  False  False   True  False  False  False"
      ]
     },
     "execution_count": 194,
     "metadata": {},
     "output_type": "execute_result"
    }
   ],
   "source": [
    "dummy_clarity = pd.get_dummies(df['Clarity'])\n",
    "dummy_clarity.head()"
   ]
  },
  {
   "cell_type": "code",
   "execution_count": 195,
   "metadata": {},
   "outputs": [
    {
     "data": {
      "text/html": [
       "<div>\n",
       "<style scoped>\n",
       "    .dataframe tbody tr th:only-of-type {\n",
       "        vertical-align: middle;\n",
       "    }\n",
       "\n",
       "    .dataframe tbody tr th {\n",
       "        vertical-align: top;\n",
       "    }\n",
       "\n",
       "    .dataframe thead th {\n",
       "        text-align: right;\n",
       "    }\n",
       "</style>\n",
       "<table border=\"1\" class=\"dataframe\">\n",
       "  <thead>\n",
       "    <tr style=\"text-align: right;\">\n",
       "      <th></th>\n",
       "      <th>FL-clarity</th>\n",
       "      <th>IF-clarity</th>\n",
       "      <th>VS1-clarity</th>\n",
       "      <th>VS2-clarity</th>\n",
       "      <th>VVS1-clarity</th>\n",
       "      <th>VVS2-clarity</th>\n",
       "    </tr>\n",
       "  </thead>\n",
       "  <tbody>\n",
       "    <tr>\n",
       "      <th>0</th>\n",
       "      <td>False</td>\n",
       "      <td>False</td>\n",
       "      <td>False</td>\n",
       "      <td>False</td>\n",
       "      <td>False</td>\n",
       "      <td>True</td>\n",
       "    </tr>\n",
       "    <tr>\n",
       "      <th>1</th>\n",
       "      <td>False</td>\n",
       "      <td>False</td>\n",
       "      <td>True</td>\n",
       "      <td>False</td>\n",
       "      <td>False</td>\n",
       "      <td>False</td>\n",
       "    </tr>\n",
       "    <tr>\n",
       "      <th>2</th>\n",
       "      <td>False</td>\n",
       "      <td>False</td>\n",
       "      <td>True</td>\n",
       "      <td>False</td>\n",
       "      <td>False</td>\n",
       "      <td>False</td>\n",
       "    </tr>\n",
       "    <tr>\n",
       "      <th>3</th>\n",
       "      <td>False</td>\n",
       "      <td>True</td>\n",
       "      <td>False</td>\n",
       "      <td>False</td>\n",
       "      <td>False</td>\n",
       "      <td>False</td>\n",
       "    </tr>\n",
       "    <tr>\n",
       "      <th>4</th>\n",
       "      <td>False</td>\n",
       "      <td>False</td>\n",
       "      <td>True</td>\n",
       "      <td>False</td>\n",
       "      <td>False</td>\n",
       "      <td>False</td>\n",
       "    </tr>\n",
       "  </tbody>\n",
       "</table>\n",
       "</div>"
      ],
      "text/plain": [
       "   FL-clarity  IF-clarity  VS1-clarity  VS2-clarity  VVS1-clarity  \\\n",
       "0       False       False        False        False         False   \n",
       "1       False       False         True        False         False   \n",
       "2       False       False         True        False         False   \n",
       "3       False        True        False        False         False   \n",
       "4       False       False         True        False         False   \n",
       "\n",
       "   VVS2-clarity  \n",
       "0          True  \n",
       "1         False  \n",
       "2         False  \n",
       "3         False  \n",
       "4         False  "
      ]
     },
     "execution_count": 195,
     "metadata": {},
     "output_type": "execute_result"
    }
   ],
   "source": [
    "dummy_clarity.rename(columns={'FL': 'FL-clarity', 'IF': 'IF-clarity', 'VS1':'VS1-clarity', 'VS2': 'VS2-clarity', 'VVS1':'VVS1-clarity', 'VVS2': 'VVS2-clarity'}, inplace=True)\n",
    "dummy_clarity.head()"
   ]
  },
  {
   "cell_type": "code",
   "execution_count": 196,
   "metadata": {},
   "outputs": [
    {
     "data": {
      "text/html": [
       "<div>\n",
       "<style scoped>\n",
       "    .dataframe tbody tr th:only-of-type {\n",
       "        vertical-align: middle;\n",
       "    }\n",
       "\n",
       "    .dataframe tbody tr th {\n",
       "        vertical-align: top;\n",
       "    }\n",
       "\n",
       "    .dataframe thead th {\n",
       "        text-align: right;\n",
       "    }\n",
       "</style>\n",
       "<table border=\"1\" class=\"dataframe\">\n",
       "  <thead>\n",
       "    <tr style=\"text-align: right;\">\n",
       "      <th></th>\n",
       "      <th>Shape</th>\n",
       "      <th>Cut</th>\n",
       "      <th>Color</th>\n",
       "      <th>Clarity</th>\n",
       "      <th>Carat Weight</th>\n",
       "      <th>Length/Width Ratio</th>\n",
       "      <th>Depth %</th>\n",
       "      <th>Table %</th>\n",
       "      <th>Polish</th>\n",
       "      <th>Symmetry</th>\n",
       "      <th>...</th>\n",
       "      <th>Height</th>\n",
       "      <th>Price</th>\n",
       "      <th>Type</th>\n",
       "      <th>Fluorescence</th>\n",
       "      <th>FL-clarity</th>\n",
       "      <th>IF-clarity</th>\n",
       "      <th>VS1-clarity</th>\n",
       "      <th>VS2-clarity</th>\n",
       "      <th>VVS1-clarity</th>\n",
       "      <th>VVS2-clarity</th>\n",
       "    </tr>\n",
       "  </thead>\n",
       "  <tbody>\n",
       "    <tr>\n",
       "      <th>0</th>\n",
       "      <td>Cushion Modified</td>\n",
       "      <td>Ideal</td>\n",
       "      <td>F</td>\n",
       "      <td>VVS2</td>\n",
       "      <td>1.84</td>\n",
       "      <td>1.02</td>\n",
       "      <td>65.8</td>\n",
       "      <td>59.0</td>\n",
       "      <td>Excellent</td>\n",
       "      <td>Very Good</td>\n",
       "      <td>...</td>\n",
       "      <td>4.57</td>\n",
       "      <td>2640</td>\n",
       "      <td>GIA Lab-Grown</td>\n",
       "      <td>No Fluorescence</td>\n",
       "      <td>False</td>\n",
       "      <td>False</td>\n",
       "      <td>False</td>\n",
       "      <td>False</td>\n",
       "      <td>False</td>\n",
       "      <td>True</td>\n",
       "    </tr>\n",
       "    <tr>\n",
       "      <th>1</th>\n",
       "      <td>Pear</td>\n",
       "      <td>NaN</td>\n",
       "      <td>E</td>\n",
       "      <td>VS1</td>\n",
       "      <td>1.20</td>\n",
       "      <td>1.65</td>\n",
       "      <td>62.5</td>\n",
       "      <td>58.0</td>\n",
       "      <td>Very Good</td>\n",
       "      <td>Very Good</td>\n",
       "      <td>...</td>\n",
       "      <td>3.66</td>\n",
       "      <td>1070</td>\n",
       "      <td>GIA Lab-Grown</td>\n",
       "      <td>No Fluorescence</td>\n",
       "      <td>False</td>\n",
       "      <td>False</td>\n",
       "      <td>True</td>\n",
       "      <td>False</td>\n",
       "      <td>False</td>\n",
       "      <td>False</td>\n",
       "    </tr>\n",
       "    <tr>\n",
       "      <th>2</th>\n",
       "      <td>Oval</td>\n",
       "      <td>NaN</td>\n",
       "      <td>E</td>\n",
       "      <td>VS1</td>\n",
       "      <td>1.19</td>\n",
       "      <td>1.41</td>\n",
       "      <td>63.1</td>\n",
       "      <td>63.0</td>\n",
       "      <td>Very Good</td>\n",
       "      <td>Very Good</td>\n",
       "      <td>...</td>\n",
       "      <td>3.79</td>\n",
       "      <td>1070</td>\n",
       "      <td>GIA Lab-Grown</td>\n",
       "      <td>No Fluorescence</td>\n",
       "      <td>False</td>\n",
       "      <td>False</td>\n",
       "      <td>True</td>\n",
       "      <td>False</td>\n",
       "      <td>False</td>\n",
       "      <td>False</td>\n",
       "    </tr>\n",
       "    <tr>\n",
       "      <th>3</th>\n",
       "      <td>Heart</td>\n",
       "      <td>NaN</td>\n",
       "      <td>D</td>\n",
       "      <td>IF</td>\n",
       "      <td>1.00</td>\n",
       "      <td>1.18</td>\n",
       "      <td>61.7</td>\n",
       "      <td>58.0</td>\n",
       "      <td>Excellent</td>\n",
       "      <td>Excellent</td>\n",
       "      <td>...</td>\n",
       "      <td>4.25</td>\n",
       "      <td>7110</td>\n",
       "      <td>GIA</td>\n",
       "      <td>Faint</td>\n",
       "      <td>False</td>\n",
       "      <td>True</td>\n",
       "      <td>False</td>\n",
       "      <td>False</td>\n",
       "      <td>False</td>\n",
       "      <td>False</td>\n",
       "    </tr>\n",
       "    <tr>\n",
       "      <th>4</th>\n",
       "      <td>Radiant</td>\n",
       "      <td>NaN</td>\n",
       "      <td>H</td>\n",
       "      <td>VS1</td>\n",
       "      <td>1.01</td>\n",
       "      <td>1.35</td>\n",
       "      <td>69.4</td>\n",
       "      <td>66.0</td>\n",
       "      <td>Excellent</td>\n",
       "      <td>Very Good</td>\n",
       "      <td>...</td>\n",
       "      <td>3.50</td>\n",
       "      <td>3050</td>\n",
       "      <td>GIA</td>\n",
       "      <td>No Fluorescence</td>\n",
       "      <td>False</td>\n",
       "      <td>False</td>\n",
       "      <td>True</td>\n",
       "      <td>False</td>\n",
       "      <td>False</td>\n",
       "      <td>False</td>\n",
       "    </tr>\n",
       "  </tbody>\n",
       "</table>\n",
       "<p>5 rows × 24 columns</p>\n",
       "</div>"
      ],
      "text/plain": [
       "              Shape    Cut Color Clarity  Carat Weight  Length/Width Ratio  \\\n",
       "0  Cushion Modified  Ideal     F    VVS2          1.84                1.02   \n",
       "1              Pear    NaN     E     VS1          1.20                1.65   \n",
       "2              Oval    NaN     E     VS1          1.19                1.41   \n",
       "3             Heart    NaN     D      IF          1.00                1.18   \n",
       "4           Radiant    NaN     H     VS1          1.01                1.35   \n",
       "\n",
       "   Depth %  Table %     Polish   Symmetry  ... Height Price           Type  \\\n",
       "0     65.8     59.0  Excellent  Very Good  ...   4.57  2640  GIA Lab-Grown   \n",
       "1     62.5     58.0  Very Good  Very Good  ...   3.66  1070  GIA Lab-Grown   \n",
       "2     63.1     63.0  Very Good  Very Good  ...   3.79  1070  GIA Lab-Grown   \n",
       "3     61.7     58.0  Excellent  Excellent  ...   4.25  7110            GIA   \n",
       "4     69.4     66.0  Excellent  Very Good  ...   3.50  3050            GIA   \n",
       "\n",
       "      Fluorescence  FL-clarity  IF-clarity VS1-clarity VS2-clarity  \\\n",
       "0  No Fluorescence       False       False       False       False   \n",
       "1  No Fluorescence       False       False        True       False   \n",
       "2  No Fluorescence       False       False        True       False   \n",
       "3            Faint       False        True       False       False   \n",
       "4  No Fluorescence       False       False        True       False   \n",
       "\n",
       "   VVS1-clarity  VVS2-clarity  \n",
       "0         False          True  \n",
       "1         False         False  \n",
       "2         False         False  \n",
       "3         False         False  \n",
       "4         False         False  \n",
       "\n",
       "[5 rows x 24 columns]"
      ]
     },
     "execution_count": 196,
     "metadata": {},
     "output_type": "execute_result"
    }
   ],
   "source": [
    "df = pd.concat([df, dummy_clarity], axis=1)\n",
    "df.head()"
   ]
  },
  {
   "cell_type": "code",
   "execution_count": 197,
   "metadata": {},
   "outputs": [],
   "source": [
    "from sklearn.linear_model import LinearRegression"
   ]
  },
  {
   "cell_type": "code",
   "execution_count": 198,
   "metadata": {},
   "outputs": [
    {
     "data": {
      "text/plain": [
       "array([3475.5 , 2750.75, 2750.75, 7428.  , 2750.75])"
      ]
     },
     "execution_count": 198,
     "metadata": {},
     "output_type": "execute_result"
    }
   ],
   "source": [
    "lr = LinearRegression()\n",
    "features = df[['FL-clarity', 'IF-clarity',\t'VS1-clarity',\t'VS2-clarity',\t'VVS1-clarity',\t'VVS2-clarity']]\n",
    "lr.fit(features, df['Price'])\n",
    "yhat = lr.predict(features)\n",
    "yhat[0:5]"
   ]
  },
  {
   "cell_type": "code",
   "execution_count": 199,
   "metadata": {},
   "outputs": [
    {
     "data": {
      "text/plain": [
       "0.10744943392303297"
      ]
     },
     "execution_count": 199,
     "metadata": {},
     "output_type": "execute_result"
    }
   ],
   "source": [
    "from sklearn.metrics import r2_score\n",
    "r2_score(df['Price'], yhat)"
   ]
  },
  {
   "cell_type": "code",
   "execution_count": 200,
   "metadata": {},
   "outputs": [],
   "source": [
    "\n",
    "# Generate dummy variables\n",
    "dummies = pd.get_dummies(df['Color'], prefix='', prefix_sep='')\n",
    "\n",
    "# Rename columns in the format \"<original_color>-color\"\n",
    "dummies.columns = [f\"{col}-color\" for col in dummies.columns]\n",
    "\n",
    "# Concatenate the dummies with the original DataFrame\n",
    "df = pd.concat([df, dummies], axis=1)\n"
   ]
  },
  {
   "cell_type": "code",
   "execution_count": 201,
   "metadata": {},
   "outputs": [
    {
     "data": {
      "text/html": [
       "<div>\n",
       "<style scoped>\n",
       "    .dataframe tbody tr th:only-of-type {\n",
       "        vertical-align: middle;\n",
       "    }\n",
       "\n",
       "    .dataframe tbody tr th {\n",
       "        vertical-align: top;\n",
       "    }\n",
       "\n",
       "    .dataframe thead th {\n",
       "        text-align: right;\n",
       "    }\n",
       "</style>\n",
       "<table border=\"1\" class=\"dataframe\">\n",
       "  <thead>\n",
       "    <tr style=\"text-align: right;\">\n",
       "      <th></th>\n",
       "      <th>Shape</th>\n",
       "      <th>Cut</th>\n",
       "      <th>Color</th>\n",
       "      <th>Clarity</th>\n",
       "      <th>Carat Weight</th>\n",
       "      <th>Length/Width Ratio</th>\n",
       "      <th>Depth %</th>\n",
       "      <th>Table %</th>\n",
       "      <th>Polish</th>\n",
       "      <th>Symmetry</th>\n",
       "      <th>...</th>\n",
       "      <th>IF-clarity</th>\n",
       "      <th>VS1-clarity</th>\n",
       "      <th>VS2-clarity</th>\n",
       "      <th>VVS1-clarity</th>\n",
       "      <th>VVS2-clarity</th>\n",
       "      <th>D-color</th>\n",
       "      <th>E-color</th>\n",
       "      <th>F-color</th>\n",
       "      <th>G-color</th>\n",
       "      <th>H-color</th>\n",
       "    </tr>\n",
       "  </thead>\n",
       "  <tbody>\n",
       "    <tr>\n",
       "      <th>0</th>\n",
       "      <td>Cushion Modified</td>\n",
       "      <td>Ideal</td>\n",
       "      <td>F</td>\n",
       "      <td>VVS2</td>\n",
       "      <td>1.84</td>\n",
       "      <td>1.02</td>\n",
       "      <td>65.8</td>\n",
       "      <td>59.0</td>\n",
       "      <td>Excellent</td>\n",
       "      <td>Very Good</td>\n",
       "      <td>...</td>\n",
       "      <td>False</td>\n",
       "      <td>False</td>\n",
       "      <td>False</td>\n",
       "      <td>False</td>\n",
       "      <td>True</td>\n",
       "      <td>False</td>\n",
       "      <td>False</td>\n",
       "      <td>True</td>\n",
       "      <td>False</td>\n",
       "      <td>False</td>\n",
       "    </tr>\n",
       "    <tr>\n",
       "      <th>1</th>\n",
       "      <td>Pear</td>\n",
       "      <td>NaN</td>\n",
       "      <td>E</td>\n",
       "      <td>VS1</td>\n",
       "      <td>1.20</td>\n",
       "      <td>1.65</td>\n",
       "      <td>62.5</td>\n",
       "      <td>58.0</td>\n",
       "      <td>Very Good</td>\n",
       "      <td>Very Good</td>\n",
       "      <td>...</td>\n",
       "      <td>False</td>\n",
       "      <td>True</td>\n",
       "      <td>False</td>\n",
       "      <td>False</td>\n",
       "      <td>False</td>\n",
       "      <td>False</td>\n",
       "      <td>True</td>\n",
       "      <td>False</td>\n",
       "      <td>False</td>\n",
       "      <td>False</td>\n",
       "    </tr>\n",
       "    <tr>\n",
       "      <th>2</th>\n",
       "      <td>Oval</td>\n",
       "      <td>NaN</td>\n",
       "      <td>E</td>\n",
       "      <td>VS1</td>\n",
       "      <td>1.19</td>\n",
       "      <td>1.41</td>\n",
       "      <td>63.1</td>\n",
       "      <td>63.0</td>\n",
       "      <td>Very Good</td>\n",
       "      <td>Very Good</td>\n",
       "      <td>...</td>\n",
       "      <td>False</td>\n",
       "      <td>True</td>\n",
       "      <td>False</td>\n",
       "      <td>False</td>\n",
       "      <td>False</td>\n",
       "      <td>False</td>\n",
       "      <td>True</td>\n",
       "      <td>False</td>\n",
       "      <td>False</td>\n",
       "      <td>False</td>\n",
       "    </tr>\n",
       "    <tr>\n",
       "      <th>3</th>\n",
       "      <td>Heart</td>\n",
       "      <td>NaN</td>\n",
       "      <td>D</td>\n",
       "      <td>IF</td>\n",
       "      <td>1.00</td>\n",
       "      <td>1.18</td>\n",
       "      <td>61.7</td>\n",
       "      <td>58.0</td>\n",
       "      <td>Excellent</td>\n",
       "      <td>Excellent</td>\n",
       "      <td>...</td>\n",
       "      <td>True</td>\n",
       "      <td>False</td>\n",
       "      <td>False</td>\n",
       "      <td>False</td>\n",
       "      <td>False</td>\n",
       "      <td>True</td>\n",
       "      <td>False</td>\n",
       "      <td>False</td>\n",
       "      <td>False</td>\n",
       "      <td>False</td>\n",
       "    </tr>\n",
       "    <tr>\n",
       "      <th>4</th>\n",
       "      <td>Radiant</td>\n",
       "      <td>NaN</td>\n",
       "      <td>H</td>\n",
       "      <td>VS1</td>\n",
       "      <td>1.01</td>\n",
       "      <td>1.35</td>\n",
       "      <td>69.4</td>\n",
       "      <td>66.0</td>\n",
       "      <td>Excellent</td>\n",
       "      <td>Very Good</td>\n",
       "      <td>...</td>\n",
       "      <td>False</td>\n",
       "      <td>True</td>\n",
       "      <td>False</td>\n",
       "      <td>False</td>\n",
       "      <td>False</td>\n",
       "      <td>False</td>\n",
       "      <td>False</td>\n",
       "      <td>False</td>\n",
       "      <td>False</td>\n",
       "      <td>True</td>\n",
       "    </tr>\n",
       "  </tbody>\n",
       "</table>\n",
       "<p>5 rows × 29 columns</p>\n",
       "</div>"
      ],
      "text/plain": [
       "              Shape    Cut Color Clarity  Carat Weight  Length/Width Ratio  \\\n",
       "0  Cushion Modified  Ideal     F    VVS2          1.84                1.02   \n",
       "1              Pear    NaN     E     VS1          1.20                1.65   \n",
       "2              Oval    NaN     E     VS1          1.19                1.41   \n",
       "3             Heart    NaN     D      IF          1.00                1.18   \n",
       "4           Radiant    NaN     H     VS1          1.01                1.35   \n",
       "\n",
       "   Depth %  Table %     Polish   Symmetry  ... IF-clarity VS1-clarity  \\\n",
       "0     65.8     59.0  Excellent  Very Good  ...      False       False   \n",
       "1     62.5     58.0  Very Good  Very Good  ...      False        True   \n",
       "2     63.1     63.0  Very Good  Very Good  ...      False        True   \n",
       "3     61.7     58.0  Excellent  Excellent  ...       True       False   \n",
       "4     69.4     66.0  Excellent  Very Good  ...      False        True   \n",
       "\n",
       "   VS2-clarity  VVS1-clarity  VVS2-clarity  D-color E-color F-color  G-color  \\\n",
       "0        False         False          True    False   False    True    False   \n",
       "1        False         False         False    False    True   False    False   \n",
       "2        False         False         False    False    True   False    False   \n",
       "3        False         False         False     True   False   False    False   \n",
       "4        False         False         False    False   False   False    False   \n",
       "\n",
       "   H-color  \n",
       "0    False  \n",
       "1    False  \n",
       "2    False  \n",
       "3    False  \n",
       "4     True  \n",
       "\n",
       "[5 rows x 29 columns]"
      ]
     },
     "execution_count": 201,
     "metadata": {},
     "output_type": "execute_result"
    }
   ],
   "source": [
    "df.head()"
   ]
  },
  {
   "cell_type": "code",
   "execution_count": 202,
   "metadata": {},
   "outputs": [
    {
     "data": {
      "text/plain": [
       "Polish\n",
       "Excellent    5959\n",
       "Very Good     492\n",
       "Good           34\n",
       "Name: count, dtype: int64"
      ]
     },
     "execution_count": 202,
     "metadata": {},
     "output_type": "execute_result"
    }
   ],
   "source": [
    "df['Polish'].value_counts()"
   ]
  },
  {
   "cell_type": "code",
   "execution_count": 203,
   "metadata": {},
   "outputs": [
    {
     "data": {
      "text/html": [
       "<div>\n",
       "<style scoped>\n",
       "    .dataframe tbody tr th:only-of-type {\n",
       "        vertical-align: middle;\n",
       "    }\n",
       "\n",
       "    .dataframe tbody tr th {\n",
       "        vertical-align: top;\n",
       "    }\n",
       "\n",
       "    .dataframe thead th {\n",
       "        text-align: right;\n",
       "    }\n",
       "</style>\n",
       "<table border=\"1\" class=\"dataframe\">\n",
       "  <thead>\n",
       "    <tr style=\"text-align: right;\">\n",
       "      <th></th>\n",
       "      <th>Shape</th>\n",
       "      <th>Cut</th>\n",
       "      <th>Color</th>\n",
       "      <th>Clarity</th>\n",
       "      <th>Carat Weight</th>\n",
       "      <th>Length/Width Ratio</th>\n",
       "      <th>Depth %</th>\n",
       "      <th>Table %</th>\n",
       "      <th>Polish</th>\n",
       "      <th>Symmetry</th>\n",
       "      <th>...</th>\n",
       "      <th>VVS1-clarity</th>\n",
       "      <th>VVS2-clarity</th>\n",
       "      <th>D-color</th>\n",
       "      <th>E-color</th>\n",
       "      <th>F-color</th>\n",
       "      <th>G-color</th>\n",
       "      <th>H-color</th>\n",
       "      <th>Excellent-polish</th>\n",
       "      <th>Good-polish</th>\n",
       "      <th>Very Good-polish</th>\n",
       "    </tr>\n",
       "  </thead>\n",
       "  <tbody>\n",
       "    <tr>\n",
       "      <th>0</th>\n",
       "      <td>Cushion Modified</td>\n",
       "      <td>Ideal</td>\n",
       "      <td>F</td>\n",
       "      <td>VVS2</td>\n",
       "      <td>1.84</td>\n",
       "      <td>1.02</td>\n",
       "      <td>65.8</td>\n",
       "      <td>59.0</td>\n",
       "      <td>Excellent</td>\n",
       "      <td>Very Good</td>\n",
       "      <td>...</td>\n",
       "      <td>False</td>\n",
       "      <td>True</td>\n",
       "      <td>False</td>\n",
       "      <td>False</td>\n",
       "      <td>True</td>\n",
       "      <td>False</td>\n",
       "      <td>False</td>\n",
       "      <td>True</td>\n",
       "      <td>False</td>\n",
       "      <td>False</td>\n",
       "    </tr>\n",
       "    <tr>\n",
       "      <th>1</th>\n",
       "      <td>Pear</td>\n",
       "      <td>NaN</td>\n",
       "      <td>E</td>\n",
       "      <td>VS1</td>\n",
       "      <td>1.20</td>\n",
       "      <td>1.65</td>\n",
       "      <td>62.5</td>\n",
       "      <td>58.0</td>\n",
       "      <td>Very Good</td>\n",
       "      <td>Very Good</td>\n",
       "      <td>...</td>\n",
       "      <td>False</td>\n",
       "      <td>False</td>\n",
       "      <td>False</td>\n",
       "      <td>True</td>\n",
       "      <td>False</td>\n",
       "      <td>False</td>\n",
       "      <td>False</td>\n",
       "      <td>False</td>\n",
       "      <td>False</td>\n",
       "      <td>True</td>\n",
       "    </tr>\n",
       "    <tr>\n",
       "      <th>2</th>\n",
       "      <td>Oval</td>\n",
       "      <td>NaN</td>\n",
       "      <td>E</td>\n",
       "      <td>VS1</td>\n",
       "      <td>1.19</td>\n",
       "      <td>1.41</td>\n",
       "      <td>63.1</td>\n",
       "      <td>63.0</td>\n",
       "      <td>Very Good</td>\n",
       "      <td>Very Good</td>\n",
       "      <td>...</td>\n",
       "      <td>False</td>\n",
       "      <td>False</td>\n",
       "      <td>False</td>\n",
       "      <td>True</td>\n",
       "      <td>False</td>\n",
       "      <td>False</td>\n",
       "      <td>False</td>\n",
       "      <td>False</td>\n",
       "      <td>False</td>\n",
       "      <td>True</td>\n",
       "    </tr>\n",
       "    <tr>\n",
       "      <th>3</th>\n",
       "      <td>Heart</td>\n",
       "      <td>NaN</td>\n",
       "      <td>D</td>\n",
       "      <td>IF</td>\n",
       "      <td>1.00</td>\n",
       "      <td>1.18</td>\n",
       "      <td>61.7</td>\n",
       "      <td>58.0</td>\n",
       "      <td>Excellent</td>\n",
       "      <td>Excellent</td>\n",
       "      <td>...</td>\n",
       "      <td>False</td>\n",
       "      <td>False</td>\n",
       "      <td>True</td>\n",
       "      <td>False</td>\n",
       "      <td>False</td>\n",
       "      <td>False</td>\n",
       "      <td>False</td>\n",
       "      <td>True</td>\n",
       "      <td>False</td>\n",
       "      <td>False</td>\n",
       "    </tr>\n",
       "    <tr>\n",
       "      <th>4</th>\n",
       "      <td>Radiant</td>\n",
       "      <td>NaN</td>\n",
       "      <td>H</td>\n",
       "      <td>VS1</td>\n",
       "      <td>1.01</td>\n",
       "      <td>1.35</td>\n",
       "      <td>69.4</td>\n",
       "      <td>66.0</td>\n",
       "      <td>Excellent</td>\n",
       "      <td>Very Good</td>\n",
       "      <td>...</td>\n",
       "      <td>False</td>\n",
       "      <td>False</td>\n",
       "      <td>False</td>\n",
       "      <td>False</td>\n",
       "      <td>False</td>\n",
       "      <td>False</td>\n",
       "      <td>True</td>\n",
       "      <td>True</td>\n",
       "      <td>False</td>\n",
       "      <td>False</td>\n",
       "    </tr>\n",
       "  </tbody>\n",
       "</table>\n",
       "<p>5 rows × 32 columns</p>\n",
       "</div>"
      ],
      "text/plain": [
       "              Shape    Cut Color Clarity  Carat Weight  Length/Width Ratio  \\\n",
       "0  Cushion Modified  Ideal     F    VVS2          1.84                1.02   \n",
       "1              Pear    NaN     E     VS1          1.20                1.65   \n",
       "2              Oval    NaN     E     VS1          1.19                1.41   \n",
       "3             Heart    NaN     D      IF          1.00                1.18   \n",
       "4           Radiant    NaN     H     VS1          1.01                1.35   \n",
       "\n",
       "   Depth %  Table %     Polish   Symmetry  ... VVS1-clarity VVS2-clarity  \\\n",
       "0     65.8     59.0  Excellent  Very Good  ...        False         True   \n",
       "1     62.5     58.0  Very Good  Very Good  ...        False        False   \n",
       "2     63.1     63.0  Very Good  Very Good  ...        False        False   \n",
       "3     61.7     58.0  Excellent  Excellent  ...        False        False   \n",
       "4     69.4     66.0  Excellent  Very Good  ...        False        False   \n",
       "\n",
       "   D-color  E-color  F-color  G-color H-color Excellent-polish  Good-polish  \\\n",
       "0    False    False     True    False   False             True        False   \n",
       "1    False     True    False    False   False            False        False   \n",
       "2    False     True    False    False   False            False        False   \n",
       "3     True    False    False    False   False             True        False   \n",
       "4    False    False    False    False    True             True        False   \n",
       "\n",
       "   Very Good-polish  \n",
       "0             False  \n",
       "1              True  \n",
       "2              True  \n",
       "3             False  \n",
       "4             False  \n",
       "\n",
       "[5 rows x 32 columns]"
      ]
     },
     "execution_count": 203,
     "metadata": {},
     "output_type": "execute_result"
    }
   ],
   "source": [
    "dummies = pd.get_dummies(df['Polish'], prefix='', prefix_sep='')\n",
    "\n",
    "# Rename columns in the format \"<original_value>-polish\"\n",
    "dummies.columns = [f\"{col}-polish\" for col in dummies.columns]\n",
    "\n",
    "# Concatenate the dummies with the original DataFrame\n",
    "df = pd.concat([df, dummies], axis=1)\n",
    "df.head()"
   ]
  },
  {
   "cell_type": "code",
   "execution_count": 204,
   "metadata": {},
   "outputs": [
    {
     "data": {
      "text/plain": [
       "Symmetry\n",
       "Excellent    4571\n",
       "Very Good    1790\n",
       "Good          124\n",
       "Name: count, dtype: int64"
      ]
     },
     "execution_count": 204,
     "metadata": {},
     "output_type": "execute_result"
    }
   ],
   "source": [
    "df['Symmetry'].value_counts()"
   ]
  },
  {
   "cell_type": "code",
   "execution_count": 205,
   "metadata": {},
   "outputs": [
    {
     "data": {
      "text/html": [
       "<div>\n",
       "<style scoped>\n",
       "    .dataframe tbody tr th:only-of-type {\n",
       "        vertical-align: middle;\n",
       "    }\n",
       "\n",
       "    .dataframe tbody tr th {\n",
       "        vertical-align: top;\n",
       "    }\n",
       "\n",
       "    .dataframe thead th {\n",
       "        text-align: right;\n",
       "    }\n",
       "</style>\n",
       "<table border=\"1\" class=\"dataframe\">\n",
       "  <thead>\n",
       "    <tr style=\"text-align: right;\">\n",
       "      <th></th>\n",
       "      <th>Shape</th>\n",
       "      <th>Cut</th>\n",
       "      <th>Color</th>\n",
       "      <th>Clarity</th>\n",
       "      <th>Carat Weight</th>\n",
       "      <th>Length/Width Ratio</th>\n",
       "      <th>Depth %</th>\n",
       "      <th>Table %</th>\n",
       "      <th>Polish</th>\n",
       "      <th>Symmetry</th>\n",
       "      <th>...</th>\n",
       "      <th>E-color</th>\n",
       "      <th>F-color</th>\n",
       "      <th>G-color</th>\n",
       "      <th>H-color</th>\n",
       "      <th>Excellent-polish</th>\n",
       "      <th>Good-polish</th>\n",
       "      <th>Very Good-polish</th>\n",
       "      <th>Excellent-symmetry</th>\n",
       "      <th>Good-symmetry</th>\n",
       "      <th>Very Good-symmetry</th>\n",
       "    </tr>\n",
       "  </thead>\n",
       "  <tbody>\n",
       "    <tr>\n",
       "      <th>0</th>\n",
       "      <td>Cushion Modified</td>\n",
       "      <td>Ideal</td>\n",
       "      <td>F</td>\n",
       "      <td>VVS2</td>\n",
       "      <td>1.84</td>\n",
       "      <td>1.02</td>\n",
       "      <td>65.8</td>\n",
       "      <td>59.0</td>\n",
       "      <td>Excellent</td>\n",
       "      <td>Very Good</td>\n",
       "      <td>...</td>\n",
       "      <td>False</td>\n",
       "      <td>True</td>\n",
       "      <td>False</td>\n",
       "      <td>False</td>\n",
       "      <td>True</td>\n",
       "      <td>False</td>\n",
       "      <td>False</td>\n",
       "      <td>False</td>\n",
       "      <td>False</td>\n",
       "      <td>True</td>\n",
       "    </tr>\n",
       "    <tr>\n",
       "      <th>1</th>\n",
       "      <td>Pear</td>\n",
       "      <td>NaN</td>\n",
       "      <td>E</td>\n",
       "      <td>VS1</td>\n",
       "      <td>1.20</td>\n",
       "      <td>1.65</td>\n",
       "      <td>62.5</td>\n",
       "      <td>58.0</td>\n",
       "      <td>Very Good</td>\n",
       "      <td>Very Good</td>\n",
       "      <td>...</td>\n",
       "      <td>True</td>\n",
       "      <td>False</td>\n",
       "      <td>False</td>\n",
       "      <td>False</td>\n",
       "      <td>False</td>\n",
       "      <td>False</td>\n",
       "      <td>True</td>\n",
       "      <td>False</td>\n",
       "      <td>False</td>\n",
       "      <td>True</td>\n",
       "    </tr>\n",
       "    <tr>\n",
       "      <th>2</th>\n",
       "      <td>Oval</td>\n",
       "      <td>NaN</td>\n",
       "      <td>E</td>\n",
       "      <td>VS1</td>\n",
       "      <td>1.19</td>\n",
       "      <td>1.41</td>\n",
       "      <td>63.1</td>\n",
       "      <td>63.0</td>\n",
       "      <td>Very Good</td>\n",
       "      <td>Very Good</td>\n",
       "      <td>...</td>\n",
       "      <td>True</td>\n",
       "      <td>False</td>\n",
       "      <td>False</td>\n",
       "      <td>False</td>\n",
       "      <td>False</td>\n",
       "      <td>False</td>\n",
       "      <td>True</td>\n",
       "      <td>False</td>\n",
       "      <td>False</td>\n",
       "      <td>True</td>\n",
       "    </tr>\n",
       "    <tr>\n",
       "      <th>3</th>\n",
       "      <td>Heart</td>\n",
       "      <td>NaN</td>\n",
       "      <td>D</td>\n",
       "      <td>IF</td>\n",
       "      <td>1.00</td>\n",
       "      <td>1.18</td>\n",
       "      <td>61.7</td>\n",
       "      <td>58.0</td>\n",
       "      <td>Excellent</td>\n",
       "      <td>Excellent</td>\n",
       "      <td>...</td>\n",
       "      <td>False</td>\n",
       "      <td>False</td>\n",
       "      <td>False</td>\n",
       "      <td>False</td>\n",
       "      <td>True</td>\n",
       "      <td>False</td>\n",
       "      <td>False</td>\n",
       "      <td>True</td>\n",
       "      <td>False</td>\n",
       "      <td>False</td>\n",
       "    </tr>\n",
       "    <tr>\n",
       "      <th>4</th>\n",
       "      <td>Radiant</td>\n",
       "      <td>NaN</td>\n",
       "      <td>H</td>\n",
       "      <td>VS1</td>\n",
       "      <td>1.01</td>\n",
       "      <td>1.35</td>\n",
       "      <td>69.4</td>\n",
       "      <td>66.0</td>\n",
       "      <td>Excellent</td>\n",
       "      <td>Very Good</td>\n",
       "      <td>...</td>\n",
       "      <td>False</td>\n",
       "      <td>False</td>\n",
       "      <td>False</td>\n",
       "      <td>True</td>\n",
       "      <td>True</td>\n",
       "      <td>False</td>\n",
       "      <td>False</td>\n",
       "      <td>False</td>\n",
       "      <td>False</td>\n",
       "      <td>True</td>\n",
       "    </tr>\n",
       "  </tbody>\n",
       "</table>\n",
       "<p>5 rows × 35 columns</p>\n",
       "</div>"
      ],
      "text/plain": [
       "              Shape    Cut Color Clarity  Carat Weight  Length/Width Ratio  \\\n",
       "0  Cushion Modified  Ideal     F    VVS2          1.84                1.02   \n",
       "1              Pear    NaN     E     VS1          1.20                1.65   \n",
       "2              Oval    NaN     E     VS1          1.19                1.41   \n",
       "3             Heart    NaN     D      IF          1.00                1.18   \n",
       "4           Radiant    NaN     H     VS1          1.01                1.35   \n",
       "\n",
       "   Depth %  Table %     Polish   Symmetry  ... E-color F-color  G-color  \\\n",
       "0     65.8     59.0  Excellent  Very Good  ...   False    True    False   \n",
       "1     62.5     58.0  Very Good  Very Good  ...    True   False    False   \n",
       "2     63.1     63.0  Very Good  Very Good  ...    True   False    False   \n",
       "3     61.7     58.0  Excellent  Excellent  ...   False   False    False   \n",
       "4     69.4     66.0  Excellent  Very Good  ...   False   False    False   \n",
       "\n",
       "   H-color  Excellent-polish  Good-polish Very Good-polish Excellent-symmetry  \\\n",
       "0    False              True        False            False              False   \n",
       "1    False             False        False             True              False   \n",
       "2    False             False        False             True              False   \n",
       "3    False              True        False            False               True   \n",
       "4     True              True        False            False              False   \n",
       "\n",
       "   Good-symmetry  Very Good-symmetry  \n",
       "0          False                True  \n",
       "1          False                True  \n",
       "2          False                True  \n",
       "3          False               False  \n",
       "4          False                True  \n",
       "\n",
       "[5 rows x 35 columns]"
      ]
     },
     "execution_count": 205,
     "metadata": {},
     "output_type": "execute_result"
    }
   ],
   "source": [
    "dummies = pd.get_dummies(df['Symmetry'], prefix='', prefix_sep='')\n",
    "\n",
    "# Rename columns in the format \"<original_value>-symmetry\"\n",
    "dummies.columns = [f\"{col}-symmetry\" for col in dummies.columns]\n",
    "\n",
    "# Concatenate the dummies with the original DataFrame\n",
    "df = pd.concat([df, dummies], axis=1)\n",
    "\n",
    "df.head()"
   ]
  },
  {
   "cell_type": "code",
   "execution_count": 206,
   "metadata": {},
   "outputs": [
    {
     "data": {
      "text/plain": [
       "Culet\n",
       "No Culet      4594\n",
       "Pointed       1861\n",
       "Very Small      18\n",
       "Small           10\n",
       "Medium           1\n",
       "Very Large       1\n",
       "Name: count, dtype: int64"
      ]
     },
     "execution_count": 206,
     "metadata": {},
     "output_type": "execute_result"
    }
   ],
   "source": [
    "df['Culet'].value_counts()"
   ]
  },
  {
   "cell_type": "markdown",
   "metadata": {},
   "source": [
    "The value counts in Culet have only one data point for Medium and Very Large Diamonds. The number of data points for very small and small are also few. So, we'll remove medium and very large culet as they are outliers. We will also combine small and very small into one columns"
   ]
  },
  {
   "cell_type": "code",
   "execution_count": 207,
   "metadata": {},
   "outputs": [],
   "source": [
    "df = df[~df['Culet'].isin(['Medium', 'Very Large'])]\n"
   ]
  },
  {
   "cell_type": "code",
   "execution_count": 208,
   "metadata": {},
   "outputs": [
    {
     "data": {
      "text/html": [
       "<div>\n",
       "<style scoped>\n",
       "    .dataframe tbody tr th:only-of-type {\n",
       "        vertical-align: middle;\n",
       "    }\n",
       "\n",
       "    .dataframe tbody tr th {\n",
       "        vertical-align: top;\n",
       "    }\n",
       "\n",
       "    .dataframe thead th {\n",
       "        text-align: right;\n",
       "    }\n",
       "</style>\n",
       "<table border=\"1\" class=\"dataframe\">\n",
       "  <thead>\n",
       "    <tr style=\"text-align: right;\">\n",
       "      <th></th>\n",
       "      <th>Shape</th>\n",
       "      <th>Cut</th>\n",
       "      <th>Color</th>\n",
       "      <th>Clarity</th>\n",
       "      <th>Carat Weight</th>\n",
       "      <th>Length/Width Ratio</th>\n",
       "      <th>Depth %</th>\n",
       "      <th>Table %</th>\n",
       "      <th>Polish</th>\n",
       "      <th>Symmetry</th>\n",
       "      <th>...</th>\n",
       "      <th>H-color</th>\n",
       "      <th>Excellent-polish</th>\n",
       "      <th>Good-polish</th>\n",
       "      <th>Very Good-polish</th>\n",
       "      <th>Excellent-symmetry</th>\n",
       "      <th>Good-symmetry</th>\n",
       "      <th>Very Good-symmetry</th>\n",
       "      <th>No Culet-culet</th>\n",
       "      <th>Pointed-culet</th>\n",
       "      <th>Small-culet</th>\n",
       "    </tr>\n",
       "  </thead>\n",
       "  <tbody>\n",
       "    <tr>\n",
       "      <th>0</th>\n",
       "      <td>Cushion Modified</td>\n",
       "      <td>Ideal</td>\n",
       "      <td>F</td>\n",
       "      <td>VVS2</td>\n",
       "      <td>1.84</td>\n",
       "      <td>1.02</td>\n",
       "      <td>65.8</td>\n",
       "      <td>59.0</td>\n",
       "      <td>Excellent</td>\n",
       "      <td>Very Good</td>\n",
       "      <td>...</td>\n",
       "      <td>False</td>\n",
       "      <td>True</td>\n",
       "      <td>False</td>\n",
       "      <td>False</td>\n",
       "      <td>False</td>\n",
       "      <td>False</td>\n",
       "      <td>True</td>\n",
       "      <td>True</td>\n",
       "      <td>False</td>\n",
       "      <td>False</td>\n",
       "    </tr>\n",
       "    <tr>\n",
       "      <th>1</th>\n",
       "      <td>Pear</td>\n",
       "      <td>NaN</td>\n",
       "      <td>E</td>\n",
       "      <td>VS1</td>\n",
       "      <td>1.20</td>\n",
       "      <td>1.65</td>\n",
       "      <td>62.5</td>\n",
       "      <td>58.0</td>\n",
       "      <td>Very Good</td>\n",
       "      <td>Very Good</td>\n",
       "      <td>...</td>\n",
       "      <td>False</td>\n",
       "      <td>False</td>\n",
       "      <td>False</td>\n",
       "      <td>True</td>\n",
       "      <td>False</td>\n",
       "      <td>False</td>\n",
       "      <td>True</td>\n",
       "      <td>True</td>\n",
       "      <td>False</td>\n",
       "      <td>False</td>\n",
       "    </tr>\n",
       "    <tr>\n",
       "      <th>2</th>\n",
       "      <td>Oval</td>\n",
       "      <td>NaN</td>\n",
       "      <td>E</td>\n",
       "      <td>VS1</td>\n",
       "      <td>1.19</td>\n",
       "      <td>1.41</td>\n",
       "      <td>63.1</td>\n",
       "      <td>63.0</td>\n",
       "      <td>Very Good</td>\n",
       "      <td>Very Good</td>\n",
       "      <td>...</td>\n",
       "      <td>False</td>\n",
       "      <td>False</td>\n",
       "      <td>False</td>\n",
       "      <td>True</td>\n",
       "      <td>False</td>\n",
       "      <td>False</td>\n",
       "      <td>True</td>\n",
       "      <td>True</td>\n",
       "      <td>False</td>\n",
       "      <td>False</td>\n",
       "    </tr>\n",
       "    <tr>\n",
       "      <th>3</th>\n",
       "      <td>Heart</td>\n",
       "      <td>NaN</td>\n",
       "      <td>D</td>\n",
       "      <td>IF</td>\n",
       "      <td>1.00</td>\n",
       "      <td>1.18</td>\n",
       "      <td>61.7</td>\n",
       "      <td>58.0</td>\n",
       "      <td>Excellent</td>\n",
       "      <td>Excellent</td>\n",
       "      <td>...</td>\n",
       "      <td>False</td>\n",
       "      <td>True</td>\n",
       "      <td>False</td>\n",
       "      <td>False</td>\n",
       "      <td>True</td>\n",
       "      <td>False</td>\n",
       "      <td>False</td>\n",
       "      <td>True</td>\n",
       "      <td>False</td>\n",
       "      <td>False</td>\n",
       "    </tr>\n",
       "    <tr>\n",
       "      <th>4</th>\n",
       "      <td>Radiant</td>\n",
       "      <td>NaN</td>\n",
       "      <td>H</td>\n",
       "      <td>VS1</td>\n",
       "      <td>1.01</td>\n",
       "      <td>1.35</td>\n",
       "      <td>69.4</td>\n",
       "      <td>66.0</td>\n",
       "      <td>Excellent</td>\n",
       "      <td>Very Good</td>\n",
       "      <td>...</td>\n",
       "      <td>True</td>\n",
       "      <td>True</td>\n",
       "      <td>False</td>\n",
       "      <td>False</td>\n",
       "      <td>False</td>\n",
       "      <td>False</td>\n",
       "      <td>True</td>\n",
       "      <td>True</td>\n",
       "      <td>False</td>\n",
       "      <td>False</td>\n",
       "    </tr>\n",
       "  </tbody>\n",
       "</table>\n",
       "<p>5 rows × 38 columns</p>\n",
       "</div>"
      ],
      "text/plain": [
       "              Shape    Cut Color Clarity  Carat Weight  Length/Width Ratio  \\\n",
       "0  Cushion Modified  Ideal     F    VVS2          1.84                1.02   \n",
       "1              Pear    NaN     E     VS1          1.20                1.65   \n",
       "2              Oval    NaN     E     VS1          1.19                1.41   \n",
       "3             Heart    NaN     D      IF          1.00                1.18   \n",
       "4           Radiant    NaN     H     VS1          1.01                1.35   \n",
       "\n",
       "   Depth %  Table %     Polish   Symmetry  ... H-color Excellent-polish  \\\n",
       "0     65.8     59.0  Excellent  Very Good  ...   False             True   \n",
       "1     62.5     58.0  Very Good  Very Good  ...   False            False   \n",
       "2     63.1     63.0  Very Good  Very Good  ...   False            False   \n",
       "3     61.7     58.0  Excellent  Excellent  ...   False             True   \n",
       "4     69.4     66.0  Excellent  Very Good  ...    True             True   \n",
       "\n",
       "   Good-polish  Very Good-polish  Excellent-symmetry  Good-symmetry  \\\n",
       "0        False             False               False          False   \n",
       "1        False              True               False          False   \n",
       "2        False              True               False          False   \n",
       "3        False             False                True          False   \n",
       "4        False             False               False          False   \n",
       "\n",
       "  Very Good-symmetry No Culet-culet  Pointed-culet  Small-culet  \n",
       "0               True           True          False        False  \n",
       "1               True           True          False        False  \n",
       "2               True           True          False        False  \n",
       "3              False           True          False        False  \n",
       "4               True           True          False        False  \n",
       "\n",
       "[5 rows x 38 columns]"
      ]
     },
     "execution_count": 208,
     "metadata": {},
     "output_type": "execute_result"
    }
   ],
   "source": [
    "# Combine 'Small' and 'Very Small' into 'Small Culet'\n",
    "df['Culet'] = df['Culet'].replace({'Small': 'Small', 'Very Small': 'Small'})\n",
    "\n",
    "# Generate dummy variables\n",
    "dummies = pd.get_dummies(df['Culet'], prefix='', prefix_sep='')\n",
    "\n",
    "# Rename columns in the format \"<original_value>-culet\"\n",
    "dummies.columns = [f\"{col}-culet\" for col in dummies.columns]\n",
    "\n",
    "# Concatenate the dummies with the filtered DataFrame\n",
    "df = pd.concat([df, dummies], axis=1)\n",
    "df.head()"
   ]
  },
  {
   "cell_type": "code",
   "execution_count": 209,
   "metadata": {},
   "outputs": [
    {
     "data": {
      "text/plain": [
       "Type\n",
       "GIA              3353\n",
       "IGI Lab-Grown    1876\n",
       "GIA Lab-Grown    1254\n",
       "Name: count, dtype: int64"
      ]
     },
     "execution_count": 209,
     "metadata": {},
     "output_type": "execute_result"
    }
   ],
   "source": [
    "df['Type'].value_counts()"
   ]
  },
  {
   "cell_type": "code",
   "execution_count": 210,
   "metadata": {},
   "outputs": [
    {
     "data": {
      "text/html": [
       "<div>\n",
       "<style scoped>\n",
       "    .dataframe tbody tr th:only-of-type {\n",
       "        vertical-align: middle;\n",
       "    }\n",
       "\n",
       "    .dataframe tbody tr th {\n",
       "        vertical-align: top;\n",
       "    }\n",
       "\n",
       "    .dataframe thead th {\n",
       "        text-align: right;\n",
       "    }\n",
       "</style>\n",
       "<table border=\"1\" class=\"dataframe\">\n",
       "  <thead>\n",
       "    <tr style=\"text-align: right;\">\n",
       "      <th></th>\n",
       "      <th>Shape</th>\n",
       "      <th>Cut</th>\n",
       "      <th>Color</th>\n",
       "      <th>Clarity</th>\n",
       "      <th>Carat Weight</th>\n",
       "      <th>Length/Width Ratio</th>\n",
       "      <th>Depth %</th>\n",
       "      <th>Table %</th>\n",
       "      <th>Polish</th>\n",
       "      <th>Symmetry</th>\n",
       "      <th>...</th>\n",
       "      <th>Very Good-polish</th>\n",
       "      <th>Excellent-symmetry</th>\n",
       "      <th>Good-symmetry</th>\n",
       "      <th>Very Good-symmetry</th>\n",
       "      <th>No Culet-culet</th>\n",
       "      <th>Pointed-culet</th>\n",
       "      <th>Small-culet</th>\n",
       "      <th>GIA-type</th>\n",
       "      <th>GIA Lab-Grown-type</th>\n",
       "      <th>IGI Lab-Grown-type</th>\n",
       "    </tr>\n",
       "  </thead>\n",
       "  <tbody>\n",
       "    <tr>\n",
       "      <th>0</th>\n",
       "      <td>Cushion Modified</td>\n",
       "      <td>Ideal</td>\n",
       "      <td>F</td>\n",
       "      <td>VVS2</td>\n",
       "      <td>1.84</td>\n",
       "      <td>1.02</td>\n",
       "      <td>65.8</td>\n",
       "      <td>59.0</td>\n",
       "      <td>Excellent</td>\n",
       "      <td>Very Good</td>\n",
       "      <td>...</td>\n",
       "      <td>False</td>\n",
       "      <td>False</td>\n",
       "      <td>False</td>\n",
       "      <td>True</td>\n",
       "      <td>True</td>\n",
       "      <td>False</td>\n",
       "      <td>False</td>\n",
       "      <td>False</td>\n",
       "      <td>True</td>\n",
       "      <td>False</td>\n",
       "    </tr>\n",
       "    <tr>\n",
       "      <th>1</th>\n",
       "      <td>Pear</td>\n",
       "      <td>NaN</td>\n",
       "      <td>E</td>\n",
       "      <td>VS1</td>\n",
       "      <td>1.20</td>\n",
       "      <td>1.65</td>\n",
       "      <td>62.5</td>\n",
       "      <td>58.0</td>\n",
       "      <td>Very Good</td>\n",
       "      <td>Very Good</td>\n",
       "      <td>...</td>\n",
       "      <td>True</td>\n",
       "      <td>False</td>\n",
       "      <td>False</td>\n",
       "      <td>True</td>\n",
       "      <td>True</td>\n",
       "      <td>False</td>\n",
       "      <td>False</td>\n",
       "      <td>False</td>\n",
       "      <td>True</td>\n",
       "      <td>False</td>\n",
       "    </tr>\n",
       "    <tr>\n",
       "      <th>2</th>\n",
       "      <td>Oval</td>\n",
       "      <td>NaN</td>\n",
       "      <td>E</td>\n",
       "      <td>VS1</td>\n",
       "      <td>1.19</td>\n",
       "      <td>1.41</td>\n",
       "      <td>63.1</td>\n",
       "      <td>63.0</td>\n",
       "      <td>Very Good</td>\n",
       "      <td>Very Good</td>\n",
       "      <td>...</td>\n",
       "      <td>True</td>\n",
       "      <td>False</td>\n",
       "      <td>False</td>\n",
       "      <td>True</td>\n",
       "      <td>True</td>\n",
       "      <td>False</td>\n",
       "      <td>False</td>\n",
       "      <td>False</td>\n",
       "      <td>True</td>\n",
       "      <td>False</td>\n",
       "    </tr>\n",
       "    <tr>\n",
       "      <th>3</th>\n",
       "      <td>Heart</td>\n",
       "      <td>NaN</td>\n",
       "      <td>D</td>\n",
       "      <td>IF</td>\n",
       "      <td>1.00</td>\n",
       "      <td>1.18</td>\n",
       "      <td>61.7</td>\n",
       "      <td>58.0</td>\n",
       "      <td>Excellent</td>\n",
       "      <td>Excellent</td>\n",
       "      <td>...</td>\n",
       "      <td>False</td>\n",
       "      <td>True</td>\n",
       "      <td>False</td>\n",
       "      <td>False</td>\n",
       "      <td>True</td>\n",
       "      <td>False</td>\n",
       "      <td>False</td>\n",
       "      <td>True</td>\n",
       "      <td>False</td>\n",
       "      <td>False</td>\n",
       "    </tr>\n",
       "    <tr>\n",
       "      <th>4</th>\n",
       "      <td>Radiant</td>\n",
       "      <td>NaN</td>\n",
       "      <td>H</td>\n",
       "      <td>VS1</td>\n",
       "      <td>1.01</td>\n",
       "      <td>1.35</td>\n",
       "      <td>69.4</td>\n",
       "      <td>66.0</td>\n",
       "      <td>Excellent</td>\n",
       "      <td>Very Good</td>\n",
       "      <td>...</td>\n",
       "      <td>False</td>\n",
       "      <td>False</td>\n",
       "      <td>False</td>\n",
       "      <td>True</td>\n",
       "      <td>True</td>\n",
       "      <td>False</td>\n",
       "      <td>False</td>\n",
       "      <td>True</td>\n",
       "      <td>False</td>\n",
       "      <td>False</td>\n",
       "    </tr>\n",
       "  </tbody>\n",
       "</table>\n",
       "<p>5 rows × 41 columns</p>\n",
       "</div>"
      ],
      "text/plain": [
       "              Shape    Cut Color Clarity  Carat Weight  Length/Width Ratio  \\\n",
       "0  Cushion Modified  Ideal     F    VVS2          1.84                1.02   \n",
       "1              Pear    NaN     E     VS1          1.20                1.65   \n",
       "2              Oval    NaN     E     VS1          1.19                1.41   \n",
       "3             Heart    NaN     D      IF          1.00                1.18   \n",
       "4           Radiant    NaN     H     VS1          1.01                1.35   \n",
       "\n",
       "   Depth %  Table %     Polish   Symmetry  ... Very Good-polish  \\\n",
       "0     65.8     59.0  Excellent  Very Good  ...            False   \n",
       "1     62.5     58.0  Very Good  Very Good  ...             True   \n",
       "2     63.1     63.0  Very Good  Very Good  ...             True   \n",
       "3     61.7     58.0  Excellent  Excellent  ...            False   \n",
       "4     69.4     66.0  Excellent  Very Good  ...            False   \n",
       "\n",
       "  Excellent-symmetry  Good-symmetry  Very Good-symmetry  No Culet-culet  \\\n",
       "0              False          False                True            True   \n",
       "1              False          False                True            True   \n",
       "2              False          False                True            True   \n",
       "3               True          False               False            True   \n",
       "4              False          False                True            True   \n",
       "\n",
       "   Pointed-culet Small-culet GIA-type  GIA Lab-Grown-type  IGI Lab-Grown-type  \n",
       "0          False       False    False                True               False  \n",
       "1          False       False    False                True               False  \n",
       "2          False       False    False                True               False  \n",
       "3          False       False     True               False               False  \n",
       "4          False       False     True               False               False  \n",
       "\n",
       "[5 rows x 41 columns]"
      ]
     },
     "execution_count": 210,
     "metadata": {},
     "output_type": "execute_result"
    }
   ],
   "source": [
    "dummies = pd.get_dummies(df['Type'], prefix='', prefix_sep='')\n",
    "\n",
    "# Rename columns in the format \"<original_value>-type\"\n",
    "dummies.columns = [f\"{col}-type\" for col in dummies.columns]\n",
    "\n",
    "# Concatenate the dummies with the original DataFrame\n",
    "df = pd.concat([df, dummies], axis=1)\n",
    "\n",
    "df.head()"
   ]
  },
  {
   "cell_type": "code",
   "execution_count": 211,
   "metadata": {},
   "outputs": [
    {
     "data": {
      "text/plain": [
       "Fluorescence\n",
       "No Fluorescence    5263\n",
       "Faint               695\n",
       "Medium              311\n",
       "Strong              214\n",
       "Name: count, dtype: int64"
      ]
     },
     "execution_count": 211,
     "metadata": {},
     "output_type": "execute_result"
    }
   ],
   "source": [
    "df['Fluorescence'].value_counts()"
   ]
  },
  {
   "cell_type": "code",
   "execution_count": 212,
   "metadata": {},
   "outputs": [
    {
     "data": {
      "text/html": [
       "<div>\n",
       "<style scoped>\n",
       "    .dataframe tbody tr th:only-of-type {\n",
       "        vertical-align: middle;\n",
       "    }\n",
       "\n",
       "    .dataframe tbody tr th {\n",
       "        vertical-align: top;\n",
       "    }\n",
       "\n",
       "    .dataframe thead th {\n",
       "        text-align: right;\n",
       "    }\n",
       "</style>\n",
       "<table border=\"1\" class=\"dataframe\">\n",
       "  <thead>\n",
       "    <tr style=\"text-align: right;\">\n",
       "      <th></th>\n",
       "      <th>Shape</th>\n",
       "      <th>Cut</th>\n",
       "      <th>Color</th>\n",
       "      <th>Clarity</th>\n",
       "      <th>Carat Weight</th>\n",
       "      <th>Length/Width Ratio</th>\n",
       "      <th>Depth %</th>\n",
       "      <th>Table %</th>\n",
       "      <th>Polish</th>\n",
       "      <th>Symmetry</th>\n",
       "      <th>...</th>\n",
       "      <th>No Culet-culet</th>\n",
       "      <th>Pointed-culet</th>\n",
       "      <th>Small-culet</th>\n",
       "      <th>GIA-type</th>\n",
       "      <th>GIA Lab-Grown-type</th>\n",
       "      <th>IGI Lab-Grown-type</th>\n",
       "      <th>Faint-fluorescence</th>\n",
       "      <th>Medium-fluorescence</th>\n",
       "      <th>No Fluorescence-fluorescence</th>\n",
       "      <th>Strong-fluorescence</th>\n",
       "    </tr>\n",
       "  </thead>\n",
       "  <tbody>\n",
       "    <tr>\n",
       "      <th>0</th>\n",
       "      <td>Cushion Modified</td>\n",
       "      <td>Ideal</td>\n",
       "      <td>F</td>\n",
       "      <td>VVS2</td>\n",
       "      <td>1.84</td>\n",
       "      <td>1.02</td>\n",
       "      <td>65.8</td>\n",
       "      <td>59.0</td>\n",
       "      <td>Excellent</td>\n",
       "      <td>Very Good</td>\n",
       "      <td>...</td>\n",
       "      <td>True</td>\n",
       "      <td>False</td>\n",
       "      <td>False</td>\n",
       "      <td>False</td>\n",
       "      <td>True</td>\n",
       "      <td>False</td>\n",
       "      <td>False</td>\n",
       "      <td>False</td>\n",
       "      <td>True</td>\n",
       "      <td>False</td>\n",
       "    </tr>\n",
       "    <tr>\n",
       "      <th>1</th>\n",
       "      <td>Pear</td>\n",
       "      <td>NaN</td>\n",
       "      <td>E</td>\n",
       "      <td>VS1</td>\n",
       "      <td>1.20</td>\n",
       "      <td>1.65</td>\n",
       "      <td>62.5</td>\n",
       "      <td>58.0</td>\n",
       "      <td>Very Good</td>\n",
       "      <td>Very Good</td>\n",
       "      <td>...</td>\n",
       "      <td>True</td>\n",
       "      <td>False</td>\n",
       "      <td>False</td>\n",
       "      <td>False</td>\n",
       "      <td>True</td>\n",
       "      <td>False</td>\n",
       "      <td>False</td>\n",
       "      <td>False</td>\n",
       "      <td>True</td>\n",
       "      <td>False</td>\n",
       "    </tr>\n",
       "    <tr>\n",
       "      <th>2</th>\n",
       "      <td>Oval</td>\n",
       "      <td>NaN</td>\n",
       "      <td>E</td>\n",
       "      <td>VS1</td>\n",
       "      <td>1.19</td>\n",
       "      <td>1.41</td>\n",
       "      <td>63.1</td>\n",
       "      <td>63.0</td>\n",
       "      <td>Very Good</td>\n",
       "      <td>Very Good</td>\n",
       "      <td>...</td>\n",
       "      <td>True</td>\n",
       "      <td>False</td>\n",
       "      <td>False</td>\n",
       "      <td>False</td>\n",
       "      <td>True</td>\n",
       "      <td>False</td>\n",
       "      <td>False</td>\n",
       "      <td>False</td>\n",
       "      <td>True</td>\n",
       "      <td>False</td>\n",
       "    </tr>\n",
       "    <tr>\n",
       "      <th>3</th>\n",
       "      <td>Heart</td>\n",
       "      <td>NaN</td>\n",
       "      <td>D</td>\n",
       "      <td>IF</td>\n",
       "      <td>1.00</td>\n",
       "      <td>1.18</td>\n",
       "      <td>61.7</td>\n",
       "      <td>58.0</td>\n",
       "      <td>Excellent</td>\n",
       "      <td>Excellent</td>\n",
       "      <td>...</td>\n",
       "      <td>True</td>\n",
       "      <td>False</td>\n",
       "      <td>False</td>\n",
       "      <td>True</td>\n",
       "      <td>False</td>\n",
       "      <td>False</td>\n",
       "      <td>True</td>\n",
       "      <td>False</td>\n",
       "      <td>False</td>\n",
       "      <td>False</td>\n",
       "    </tr>\n",
       "    <tr>\n",
       "      <th>4</th>\n",
       "      <td>Radiant</td>\n",
       "      <td>NaN</td>\n",
       "      <td>H</td>\n",
       "      <td>VS1</td>\n",
       "      <td>1.01</td>\n",
       "      <td>1.35</td>\n",
       "      <td>69.4</td>\n",
       "      <td>66.0</td>\n",
       "      <td>Excellent</td>\n",
       "      <td>Very Good</td>\n",
       "      <td>...</td>\n",
       "      <td>True</td>\n",
       "      <td>False</td>\n",
       "      <td>False</td>\n",
       "      <td>True</td>\n",
       "      <td>False</td>\n",
       "      <td>False</td>\n",
       "      <td>False</td>\n",
       "      <td>False</td>\n",
       "      <td>True</td>\n",
       "      <td>False</td>\n",
       "    </tr>\n",
       "  </tbody>\n",
       "</table>\n",
       "<p>5 rows × 45 columns</p>\n",
       "</div>"
      ],
      "text/plain": [
       "              Shape    Cut Color Clarity  Carat Weight  Length/Width Ratio  \\\n",
       "0  Cushion Modified  Ideal     F    VVS2          1.84                1.02   \n",
       "1              Pear    NaN     E     VS1          1.20                1.65   \n",
       "2              Oval    NaN     E     VS1          1.19                1.41   \n",
       "3             Heart    NaN     D      IF          1.00                1.18   \n",
       "4           Radiant    NaN     H     VS1          1.01                1.35   \n",
       "\n",
       "   Depth %  Table %     Polish   Symmetry  ... No Culet-culet Pointed-culet  \\\n",
       "0     65.8     59.0  Excellent  Very Good  ...           True         False   \n",
       "1     62.5     58.0  Very Good  Very Good  ...           True         False   \n",
       "2     63.1     63.0  Very Good  Very Good  ...           True         False   \n",
       "3     61.7     58.0  Excellent  Excellent  ...           True         False   \n",
       "4     69.4     66.0  Excellent  Very Good  ...           True         False   \n",
       "\n",
       "   Small-culet  GIA-type  GIA Lab-Grown-type  IGI Lab-Grown-type  \\\n",
       "0        False     False                True               False   \n",
       "1        False     False                True               False   \n",
       "2        False     False                True               False   \n",
       "3        False      True               False               False   \n",
       "4        False      True               False               False   \n",
       "\n",
       "  Faint-fluorescence Medium-fluorescence  No Fluorescence-fluorescence  \\\n",
       "0              False               False                          True   \n",
       "1              False               False                          True   \n",
       "2              False               False                          True   \n",
       "3               True               False                         False   \n",
       "4              False               False                          True   \n",
       "\n",
       "   Strong-fluorescence  \n",
       "0                False  \n",
       "1                False  \n",
       "2                False  \n",
       "3                False  \n",
       "4                False  \n",
       "\n",
       "[5 rows x 45 columns]"
      ]
     },
     "execution_count": 212,
     "metadata": {},
     "output_type": "execute_result"
    }
   ],
   "source": [
    "# Generate dummy variables for the 'Fluorescence' column\n",
    "dummies = pd.get_dummies(df['Fluorescence'], prefix='', prefix_sep='')\n",
    "\n",
    "# Rename columns in the format \"<original_value>-fluorescence\"\n",
    "dummies.columns = [f\"{col}-fluorescence\" for col in dummies.columns]\n",
    "\n",
    "# Concatenate the dummies with the original DataFrame\n",
    "df = pd.concat([df, dummies], axis=1)\n",
    "\n",
    "df.head()"
   ]
  },
  {
   "cell_type": "code",
   "execution_count": 213,
   "metadata": {},
   "outputs": [
    {
     "data": {
      "text/plain": [
       "Index(['Shape', 'Cut', 'Color', 'Clarity', 'Carat Weight',\n",
       "       'Length/Width Ratio', 'Depth %', 'Table %', 'Polish', 'Symmetry',\n",
       "       'Girdle', 'Culet', 'Length', 'Width', 'Height', 'Price', 'Type',\n",
       "       'Fluorescence', 'FL-clarity', 'IF-clarity', 'VS1-clarity',\n",
       "       'VS2-clarity', 'VVS1-clarity', 'VVS2-clarity', 'D-color', 'E-color',\n",
       "       'F-color', 'G-color', 'H-color', 'Excellent-polish', 'Good-polish',\n",
       "       'Very Good-polish', 'Excellent-symmetry', 'Good-symmetry',\n",
       "       'Very Good-symmetry', 'No Culet-culet', 'Pointed-culet', 'Small-culet',\n",
       "       'GIA-type', 'GIA Lab-Grown-type', 'IGI Lab-Grown-type',\n",
       "       'Faint-fluorescence', 'Medium-fluorescence',\n",
       "       'No Fluorescence-fluorescence', 'Strong-fluorescence'],\n",
       "      dtype='object')"
      ]
     },
     "execution_count": 213,
     "metadata": {},
     "output_type": "execute_result"
    }
   ],
   "source": [
    "df_temp = df\n",
    "df_temp.columns"
   ]
  },
  {
   "cell_type": "code",
   "execution_count": 214,
   "metadata": {},
   "outputs": [
    {
     "data": {
      "text/html": [
       "<div>\n",
       "<style scoped>\n",
       "    .dataframe tbody tr th:only-of-type {\n",
       "        vertical-align: middle;\n",
       "    }\n",
       "\n",
       "    .dataframe tbody tr th {\n",
       "        vertical-align: top;\n",
       "    }\n",
       "\n",
       "    .dataframe thead th {\n",
       "        text-align: right;\n",
       "    }\n",
       "</style>\n",
       "<table border=\"1\" class=\"dataframe\">\n",
       "  <thead>\n",
       "    <tr style=\"text-align: right;\">\n",
       "      <th></th>\n",
       "      <th>Shape</th>\n",
       "      <th>Cut</th>\n",
       "      <th>Carat Weight</th>\n",
       "      <th>Length/Width Ratio</th>\n",
       "      <th>Depth %</th>\n",
       "      <th>Table %</th>\n",
       "      <th>Girdle</th>\n",
       "      <th>Length</th>\n",
       "      <th>Width</th>\n",
       "      <th>Height</th>\n",
       "      <th>...</th>\n",
       "      <th>No Culet-culet</th>\n",
       "      <th>Pointed-culet</th>\n",
       "      <th>Small-culet</th>\n",
       "      <th>GIA-type</th>\n",
       "      <th>GIA Lab-Grown-type</th>\n",
       "      <th>IGI Lab-Grown-type</th>\n",
       "      <th>Faint-fluorescence</th>\n",
       "      <th>Medium-fluorescence</th>\n",
       "      <th>No Fluorescence-fluorescence</th>\n",
       "      <th>Strong-fluorescence</th>\n",
       "    </tr>\n",
       "  </thead>\n",
       "  <tbody>\n",
       "    <tr>\n",
       "      <th>0</th>\n",
       "      <td>Cushion Modified</td>\n",
       "      <td>Ideal</td>\n",
       "      <td>1.84</td>\n",
       "      <td>1.02</td>\n",
       "      <td>65.8</td>\n",
       "      <td>59.0</td>\n",
       "      <td>Medium to Thick</td>\n",
       "      <td>7.09</td>\n",
       "      <td>6.95</td>\n",
       "      <td>4.57</td>\n",
       "      <td>...</td>\n",
       "      <td>True</td>\n",
       "      <td>False</td>\n",
       "      <td>False</td>\n",
       "      <td>False</td>\n",
       "      <td>True</td>\n",
       "      <td>False</td>\n",
       "      <td>False</td>\n",
       "      <td>False</td>\n",
       "      <td>True</td>\n",
       "      <td>False</td>\n",
       "    </tr>\n",
       "    <tr>\n",
       "      <th>1</th>\n",
       "      <td>Pear</td>\n",
       "      <td>NaN</td>\n",
       "      <td>1.20</td>\n",
       "      <td>1.65</td>\n",
       "      <td>62.5</td>\n",
       "      <td>58.0</td>\n",
       "      <td>Medium to Thick</td>\n",
       "      <td>9.64</td>\n",
       "      <td>5.86</td>\n",
       "      <td>3.66</td>\n",
       "      <td>...</td>\n",
       "      <td>True</td>\n",
       "      <td>False</td>\n",
       "      <td>False</td>\n",
       "      <td>False</td>\n",
       "      <td>True</td>\n",
       "      <td>False</td>\n",
       "      <td>False</td>\n",
       "      <td>False</td>\n",
       "      <td>True</td>\n",
       "      <td>False</td>\n",
       "    </tr>\n",
       "    <tr>\n",
       "      <th>2</th>\n",
       "      <td>Oval</td>\n",
       "      <td>NaN</td>\n",
       "      <td>1.19</td>\n",
       "      <td>1.41</td>\n",
       "      <td>63.1</td>\n",
       "      <td>63.0</td>\n",
       "      <td>Medium to Thick</td>\n",
       "      <td>8.44</td>\n",
       "      <td>6.00</td>\n",
       "      <td>3.79</td>\n",
       "      <td>...</td>\n",
       "      <td>True</td>\n",
       "      <td>False</td>\n",
       "      <td>False</td>\n",
       "      <td>False</td>\n",
       "      <td>True</td>\n",
       "      <td>False</td>\n",
       "      <td>False</td>\n",
       "      <td>False</td>\n",
       "      <td>True</td>\n",
       "      <td>False</td>\n",
       "    </tr>\n",
       "    <tr>\n",
       "      <th>3</th>\n",
       "      <td>Heart</td>\n",
       "      <td>NaN</td>\n",
       "      <td>1.00</td>\n",
       "      <td>1.18</td>\n",
       "      <td>61.7</td>\n",
       "      <td>58.0</td>\n",
       "      <td>Slightly Thick to Very Thick</td>\n",
       "      <td>5.85</td>\n",
       "      <td>6.89</td>\n",
       "      <td>4.25</td>\n",
       "      <td>...</td>\n",
       "      <td>True</td>\n",
       "      <td>False</td>\n",
       "      <td>False</td>\n",
       "      <td>True</td>\n",
       "      <td>False</td>\n",
       "      <td>False</td>\n",
       "      <td>True</td>\n",
       "      <td>False</td>\n",
       "      <td>False</td>\n",
       "      <td>False</td>\n",
       "    </tr>\n",
       "    <tr>\n",
       "      <th>4</th>\n",
       "      <td>Radiant</td>\n",
       "      <td>NaN</td>\n",
       "      <td>1.01</td>\n",
       "      <td>1.35</td>\n",
       "      <td>69.4</td>\n",
       "      <td>66.0</td>\n",
       "      <td>Thick</td>\n",
       "      <td>6.80</td>\n",
       "      <td>5.05</td>\n",
       "      <td>3.50</td>\n",
       "      <td>...</td>\n",
       "      <td>True</td>\n",
       "      <td>False</td>\n",
       "      <td>False</td>\n",
       "      <td>True</td>\n",
       "      <td>False</td>\n",
       "      <td>False</td>\n",
       "      <td>False</td>\n",
       "      <td>False</td>\n",
       "      <td>True</td>\n",
       "      <td>False</td>\n",
       "    </tr>\n",
       "  </tbody>\n",
       "</table>\n",
       "<p>5 rows × 38 columns</p>\n",
       "</div>"
      ],
      "text/plain": [
       "              Shape    Cut  Carat Weight  Length/Width Ratio  Depth %  \\\n",
       "0  Cushion Modified  Ideal          1.84                1.02     65.8   \n",
       "1              Pear    NaN          1.20                1.65     62.5   \n",
       "2              Oval    NaN          1.19                1.41     63.1   \n",
       "3             Heart    NaN          1.00                1.18     61.7   \n",
       "4           Radiant    NaN          1.01                1.35     69.4   \n",
       "\n",
       "   Table %                        Girdle  Length  Width  Height  ...  \\\n",
       "0     59.0               Medium to Thick    7.09   6.95    4.57  ...   \n",
       "1     58.0               Medium to Thick    9.64   5.86    3.66  ...   \n",
       "2     63.0               Medium to Thick    8.44   6.00    3.79  ...   \n",
       "3     58.0  Slightly Thick to Very Thick    5.85   6.89    4.25  ...   \n",
       "4     66.0                         Thick    6.80   5.05    3.50  ...   \n",
       "\n",
       "   No Culet-culet  Pointed-culet  Small-culet  GIA-type  GIA Lab-Grown-type  \\\n",
       "0            True          False        False     False                True   \n",
       "1            True          False        False     False                True   \n",
       "2            True          False        False     False                True   \n",
       "3            True          False        False      True               False   \n",
       "4            True          False        False      True               False   \n",
       "\n",
       "   IGI Lab-Grown-type  Faint-fluorescence  Medium-fluorescence  \\\n",
       "0               False               False                False   \n",
       "1               False               False                False   \n",
       "2               False               False                False   \n",
       "3               False                True                False   \n",
       "4               False               False                False   \n",
       "\n",
       "   No Fluorescence-fluorescence  Strong-fluorescence  \n",
       "0                          True                False  \n",
       "1                          True                False  \n",
       "2                          True                False  \n",
       "3                         False                False  \n",
       "4                          True                False  \n",
       "\n",
       "[5 rows x 38 columns]"
      ]
     },
     "execution_count": 214,
     "metadata": {},
     "output_type": "execute_result"
    }
   ],
   "source": [
    "df.drop(['Color', 'Clarity', 'Polish', 'Symmetry', 'Culet', 'Type', 'Fluorescence'], axis=1, inplace=True)\n",
    "df.head()"
   ]
  },
  {
   "cell_type": "markdown",
   "metadata": {},
   "source": [
    "Now applying model on the cleaned data."
   ]
  },
  {
   "cell_type": "code",
   "execution_count": 215,
   "metadata": {},
   "outputs": [
    {
     "data": {
      "text/plain": [
       "Index(['Shape', 'Cut', 'Carat Weight', 'Length/Width Ratio', 'Depth %',\n",
       "       'Table %', 'Girdle', 'Length', 'Width', 'Height', 'Price', 'FL-clarity',\n",
       "       'IF-clarity', 'VS1-clarity', 'VS2-clarity', 'VVS1-clarity',\n",
       "       'VVS2-clarity', 'D-color', 'E-color', 'F-color', 'G-color', 'H-color',\n",
       "       'Excellent-polish', 'Good-polish', 'Very Good-polish',\n",
       "       'Excellent-symmetry', 'Good-symmetry', 'Very Good-symmetry',\n",
       "       'No Culet-culet', 'Pointed-culet', 'Small-culet', 'GIA-type',\n",
       "       'GIA Lab-Grown-type', 'IGI Lab-Grown-type', 'Faint-fluorescence',\n",
       "       'Medium-fluorescence', 'No Fluorescence-fluorescence',\n",
       "       'Strong-fluorescence'],\n",
       "      dtype='object')"
      ]
     },
     "execution_count": 215,
     "metadata": {},
     "output_type": "execute_result"
    }
   ],
   "source": [
    "df.columns"
   ]
  },
  {
   "cell_type": "code",
   "execution_count": 221,
   "metadata": {},
   "outputs": [
    {
     "data": {
      "text/plain": [
       "Shape\n",
       "Round               893\n",
       "Pear                840\n",
       "Marquise            833\n",
       "Princess            833\n",
       "Oval                828\n",
       "Heart               827\n",
       "Radiant             801\n",
       "Cushion Modified    365\n",
       "Emerald             137\n",
       "Cushion              91\n",
       "Square Radiant       35\n",
       "Name: count, dtype: int64"
      ]
     },
     "execution_count": 221,
     "metadata": {},
     "output_type": "execute_result"
    }
   ],
   "source": [
    "df['Shape'].value_counts()"
   ]
  },
  {
   "cell_type": "code",
   "execution_count": 222,
   "metadata": {},
   "outputs": [
    {
     "data": {
      "text/html": [
       "<div>\n",
       "<style scoped>\n",
       "    .dataframe tbody tr th:only-of-type {\n",
       "        vertical-align: middle;\n",
       "    }\n",
       "\n",
       "    .dataframe tbody tr th {\n",
       "        vertical-align: top;\n",
       "    }\n",
       "\n",
       "    .dataframe thead th {\n",
       "        text-align: right;\n",
       "    }\n",
       "</style>\n",
       "<table border=\"1\" class=\"dataframe\">\n",
       "  <thead>\n",
       "    <tr style=\"text-align: right;\">\n",
       "      <th></th>\n",
       "      <th>Shape</th>\n",
       "      <th>Cut</th>\n",
       "      <th>Carat Weight</th>\n",
       "      <th>Length/Width Ratio</th>\n",
       "      <th>Depth %</th>\n",
       "      <th>Table %</th>\n",
       "      <th>Girdle</th>\n",
       "      <th>Length</th>\n",
       "      <th>Width</th>\n",
       "      <th>Height</th>\n",
       "      <th>...</th>\n",
       "      <th>Cushion Modified-shape</th>\n",
       "      <th>Emerald-shape</th>\n",
       "      <th>Heart-shape</th>\n",
       "      <th>Marquise-shape</th>\n",
       "      <th>Oval-shape</th>\n",
       "      <th>Pear-shape</th>\n",
       "      <th>Princess-shape</th>\n",
       "      <th>Radiant-shape</th>\n",
       "      <th>Round-shape</th>\n",
       "      <th>Square Radiant-shape</th>\n",
       "    </tr>\n",
       "  </thead>\n",
       "  <tbody>\n",
       "    <tr>\n",
       "      <th>0</th>\n",
       "      <td>Cushion Modified</td>\n",
       "      <td>Ideal</td>\n",
       "      <td>1.84</td>\n",
       "      <td>1.02</td>\n",
       "      <td>65.8</td>\n",
       "      <td>59.0</td>\n",
       "      <td>Medium to Thick</td>\n",
       "      <td>7.09</td>\n",
       "      <td>6.95</td>\n",
       "      <td>4.57</td>\n",
       "      <td>...</td>\n",
       "      <td>True</td>\n",
       "      <td>False</td>\n",
       "      <td>False</td>\n",
       "      <td>False</td>\n",
       "      <td>False</td>\n",
       "      <td>False</td>\n",
       "      <td>False</td>\n",
       "      <td>False</td>\n",
       "      <td>False</td>\n",
       "      <td>False</td>\n",
       "    </tr>\n",
       "    <tr>\n",
       "      <th>1</th>\n",
       "      <td>Pear</td>\n",
       "      <td>NaN</td>\n",
       "      <td>1.20</td>\n",
       "      <td>1.65</td>\n",
       "      <td>62.5</td>\n",
       "      <td>58.0</td>\n",
       "      <td>Medium to Thick</td>\n",
       "      <td>9.64</td>\n",
       "      <td>5.86</td>\n",
       "      <td>3.66</td>\n",
       "      <td>...</td>\n",
       "      <td>False</td>\n",
       "      <td>False</td>\n",
       "      <td>False</td>\n",
       "      <td>False</td>\n",
       "      <td>False</td>\n",
       "      <td>True</td>\n",
       "      <td>False</td>\n",
       "      <td>False</td>\n",
       "      <td>False</td>\n",
       "      <td>False</td>\n",
       "    </tr>\n",
       "    <tr>\n",
       "      <th>2</th>\n",
       "      <td>Oval</td>\n",
       "      <td>NaN</td>\n",
       "      <td>1.19</td>\n",
       "      <td>1.41</td>\n",
       "      <td>63.1</td>\n",
       "      <td>63.0</td>\n",
       "      <td>Medium to Thick</td>\n",
       "      <td>8.44</td>\n",
       "      <td>6.00</td>\n",
       "      <td>3.79</td>\n",
       "      <td>...</td>\n",
       "      <td>False</td>\n",
       "      <td>False</td>\n",
       "      <td>False</td>\n",
       "      <td>False</td>\n",
       "      <td>True</td>\n",
       "      <td>False</td>\n",
       "      <td>False</td>\n",
       "      <td>False</td>\n",
       "      <td>False</td>\n",
       "      <td>False</td>\n",
       "    </tr>\n",
       "    <tr>\n",
       "      <th>3</th>\n",
       "      <td>Heart</td>\n",
       "      <td>NaN</td>\n",
       "      <td>1.00</td>\n",
       "      <td>1.18</td>\n",
       "      <td>61.7</td>\n",
       "      <td>58.0</td>\n",
       "      <td>Slightly Thick to Very Thick</td>\n",
       "      <td>5.85</td>\n",
       "      <td>6.89</td>\n",
       "      <td>4.25</td>\n",
       "      <td>...</td>\n",
       "      <td>False</td>\n",
       "      <td>False</td>\n",
       "      <td>True</td>\n",
       "      <td>False</td>\n",
       "      <td>False</td>\n",
       "      <td>False</td>\n",
       "      <td>False</td>\n",
       "      <td>False</td>\n",
       "      <td>False</td>\n",
       "      <td>False</td>\n",
       "    </tr>\n",
       "    <tr>\n",
       "      <th>4</th>\n",
       "      <td>Radiant</td>\n",
       "      <td>NaN</td>\n",
       "      <td>1.01</td>\n",
       "      <td>1.35</td>\n",
       "      <td>69.4</td>\n",
       "      <td>66.0</td>\n",
       "      <td>Thick</td>\n",
       "      <td>6.80</td>\n",
       "      <td>5.05</td>\n",
       "      <td>3.50</td>\n",
       "      <td>...</td>\n",
       "      <td>False</td>\n",
       "      <td>False</td>\n",
       "      <td>False</td>\n",
       "      <td>False</td>\n",
       "      <td>False</td>\n",
       "      <td>False</td>\n",
       "      <td>False</td>\n",
       "      <td>True</td>\n",
       "      <td>False</td>\n",
       "      <td>False</td>\n",
       "    </tr>\n",
       "  </tbody>\n",
       "</table>\n",
       "<p>5 rows × 49 columns</p>\n",
       "</div>"
      ],
      "text/plain": [
       "              Shape    Cut  Carat Weight  Length/Width Ratio  Depth %  \\\n",
       "0  Cushion Modified  Ideal          1.84                1.02     65.8   \n",
       "1              Pear    NaN          1.20                1.65     62.5   \n",
       "2              Oval    NaN          1.19                1.41     63.1   \n",
       "3             Heart    NaN          1.00                1.18     61.7   \n",
       "4           Radiant    NaN          1.01                1.35     69.4   \n",
       "\n",
       "   Table %                        Girdle  Length  Width  Height  ...  \\\n",
       "0     59.0               Medium to Thick    7.09   6.95    4.57  ...   \n",
       "1     58.0               Medium to Thick    9.64   5.86    3.66  ...   \n",
       "2     63.0               Medium to Thick    8.44   6.00    3.79  ...   \n",
       "3     58.0  Slightly Thick to Very Thick    5.85   6.89    4.25  ...   \n",
       "4     66.0                         Thick    6.80   5.05    3.50  ...   \n",
       "\n",
       "   Cushion Modified-shape  Emerald-shape  Heart-shape  Marquise-shape  \\\n",
       "0                    True          False        False           False   \n",
       "1                   False          False        False           False   \n",
       "2                   False          False        False           False   \n",
       "3                   False          False         True           False   \n",
       "4                   False          False        False           False   \n",
       "\n",
       "   Oval-shape  Pear-shape  Princess-shape  Radiant-shape  Round-shape  \\\n",
       "0       False       False           False          False        False   \n",
       "1       False        True           False          False        False   \n",
       "2        True       False           False          False        False   \n",
       "3       False       False           False          False        False   \n",
       "4       False       False           False           True        False   \n",
       "\n",
       "   Square Radiant-shape  \n",
       "0                 False  \n",
       "1                 False  \n",
       "2                 False  \n",
       "3                 False  \n",
       "4                 False  \n",
       "\n",
       "[5 rows x 49 columns]"
      ]
     },
     "execution_count": 222,
     "metadata": {},
     "output_type": "execute_result"
    }
   ],
   "source": [
    "# Generate dummy variables for the 'Shape' column\n",
    "dummies = pd.get_dummies(df['Shape'], prefix='', prefix_sep='')\n",
    "\n",
    "# Rename columns in the format \"<original_value>-shape\"\n",
    "dummies.columns = [f\"{col}-shape\" for col in dummies.columns]\n",
    "\n",
    "# Concatenate the dummies with the original DataFrame\n",
    "df = pd.concat([df, dummies], axis=1)\n",
    "df.head()"
   ]
  },
  {
   "cell_type": "code",
   "execution_count": 223,
   "metadata": {},
   "outputs": [],
   "source": [
    "df.drop(['Shape'], axis=1, inplace=True)\n"
   ]
  },
  {
   "cell_type": "code",
   "execution_count": 229,
   "metadata": {},
   "outputs": [
    {
     "data": {
      "text/plain": [
       "Index(['Carat Weight', 'Length/Width Ratio', 'Depth %', 'Table %', 'Length',\n",
       "       'Width', 'Height', 'FL-clarity', 'IF-clarity', 'VS1-clarity',\n",
       "       'VS2-clarity', 'VVS1-clarity', 'VVS2-clarity', 'D-color', 'E-color',\n",
       "       'F-color', 'G-color', 'H-color', 'Excellent-polish', 'Good-polish',\n",
       "       'Very Good-polish', 'Excellent-symmetry', 'Good-symmetry',\n",
       "       'Very Good-symmetry', 'No Culet-culet', 'Pointed-culet', 'Small-culet',\n",
       "       'GIA-type', 'GIA Lab-Grown-type', 'IGI Lab-Grown-type',\n",
       "       'Faint-fluorescence', 'Medium-fluorescence',\n",
       "       'No Fluorescence-fluorescence', 'Strong-fluorescence', 'Cushion-shape',\n",
       "       'Cushion Modified-shape', 'Emerald-shape', 'Heart-shape',\n",
       "       'Marquise-shape', 'Oval-shape', 'Pear-shape', 'Princess-shape',\n",
       "       'Radiant-shape', 'Round-shape', 'Square Radiant-shape'],\n",
       "      dtype='object')"
      ]
     },
     "execution_count": 229,
     "metadata": {},
     "output_type": "execute_result"
    }
   ],
   "source": [
    "features = df[['Carat Weight', 'Length/Width Ratio', 'Depth %', 'Table %', 'Length',\n",
    "       'Width', 'Height', 'FL-clarity', 'IF-clarity', 'VS1-clarity',\n",
    "       'VS2-clarity', 'VVS1-clarity', 'VVS2-clarity', 'D-color', 'E-color',\n",
    "       'F-color', 'G-color', 'H-color', 'Excellent-polish', 'Good-polish',\n",
    "       'Very Good-polish', 'Excellent-symmetry', 'Good-symmetry',\n",
    "       'Very Good-symmetry', 'No Culet-culet', 'Pointed-culet', 'Small-culet',\n",
    "       'GIA-type', 'GIA Lab-Grown-type', 'IGI Lab-Grown-type',\n",
    "       'Faint-fluorescence', 'Medium-fluorescence',\n",
    "       'No Fluorescence-fluorescence', 'Strong-fluorescence', 'Cushion-shape',\n",
    "       'Cushion Modified-shape', 'Emerald-shape', 'Heart-shape',\n",
    "       'Marquise-shape', 'Oval-shape', 'Pear-shape', 'Princess-shape',\n",
    "       'Radiant-shape', 'Round-shape', 'Square Radiant-shape']]\n",
    "features.columns"
   ]
  },
  {
   "cell_type": "code",
   "execution_count": 231,
   "metadata": {},
   "outputs": [
    {
     "data": {
      "text/plain": [
       "Carat Weight                    float64\n",
       "Length/Width Ratio              float64\n",
       "Depth %                         float64\n",
       "Table %                         float64\n",
       "Length                          float64\n",
       "Width                           float64\n",
       "Height                          float64\n",
       "FL-clarity                         bool\n",
       "IF-clarity                         bool\n",
       "VS1-clarity                        bool\n",
       "VS2-clarity                        bool\n",
       "VVS1-clarity                       bool\n",
       "VVS2-clarity                       bool\n",
       "D-color                            bool\n",
       "E-color                            bool\n",
       "F-color                            bool\n",
       "G-color                            bool\n",
       "H-color                            bool\n",
       "Excellent-polish                   bool\n",
       "Good-polish                        bool\n",
       "Very Good-polish                   bool\n",
       "Excellent-symmetry                 bool\n",
       "Good-symmetry                      bool\n",
       "Very Good-symmetry                 bool\n",
       "No Culet-culet                     bool\n",
       "Pointed-culet                      bool\n",
       "Small-culet                        bool\n",
       "GIA-type                           bool\n",
       "GIA Lab-Grown-type                 bool\n",
       "IGI Lab-Grown-type                 bool\n",
       "Faint-fluorescence                 bool\n",
       "Medium-fluorescence                bool\n",
       "No Fluorescence-fluorescence       bool\n",
       "Strong-fluorescence                bool\n",
       "Cushion-shape                      bool\n",
       "Cushion Modified-shape             bool\n",
       "Emerald-shape                      bool\n",
       "Heart-shape                        bool\n",
       "Marquise-shape                     bool\n",
       "Oval-shape                         bool\n",
       "Pear-shape                         bool\n",
       "Princess-shape                     bool\n",
       "Radiant-shape                      bool\n",
       "Round-shape                        bool\n",
       "Square Radiant-shape               bool\n",
       "dtype: object"
      ]
     },
     "execution_count": 231,
     "metadata": {},
     "output_type": "execute_result"
    }
   ],
   "source": [
    "features.dtypes"
   ]
  },
  {
   "cell_type": "code",
   "execution_count": 225,
   "metadata": {},
   "outputs": [],
   "source": [
    "y = df['Price']"
   ]
  },
  {
   "cell_type": "code",
   "execution_count": 226,
   "metadata": {},
   "outputs": [],
   "source": [
    "from sklearn.preprocessing import StandardScaler\n",
    "from sklearn.pipeline import Pipeline\n"
   ]
  },
  {
   "cell_type": "code",
   "execution_count": 234,
   "metadata": {},
   "outputs": [],
   "source": [
    "pipe = Pipeline([\n",
    "    ('scale', StandardScaler()),  # Scaling step\n",
    "    ('model', LinearRegression())  # Model step\n",
    "])"
   ]
  },
  {
   "cell_type": "code",
   "execution_count": 235,
   "metadata": {},
   "outputs": [
    {
     "data": {
      "text/plain": [
       "array([2835.31843917, 1954.00593917, 1228.06843917, 6557.69343917,\n",
       "       4158.56843917])"
      ]
     },
     "execution_count": 235,
     "metadata": {},
     "output_type": "execute_result"
    }
   ],
   "source": [
    "pipe.fit(features, y)\n",
    "yhat = pipe.predict(features)\n",
    "yhat[0:5]"
   ]
  },
  {
   "cell_type": "code",
   "execution_count": 236,
   "metadata": {},
   "outputs": [
    {
     "data": {
      "text/plain": [
       "0    2640\n",
       "1    1070\n",
       "2    1070\n",
       "3    7110\n",
       "4    3050\n",
       "Name: Price, dtype: int64"
      ]
     },
     "execution_count": 236,
     "metadata": {},
     "output_type": "execute_result"
    }
   ],
   "source": [
    "y[0:5]"
   ]
  },
  {
   "cell_type": "code",
   "execution_count": 237,
   "metadata": {},
   "outputs": [
    {
     "data": {
      "text/plain": [
       "0.6057833622430495"
      ]
     },
     "execution_count": 237,
     "metadata": {},
     "output_type": "execute_result"
    }
   ],
   "source": [
    "r2_score(yhat, y)"
   ]
  },
  {
   "cell_type": "code",
   "execution_count": null,
   "metadata": {},
   "outputs": [],
   "source": []
  }
 ],
 "metadata": {
  "kernelspec": {
   "display_name": "base",
   "language": "python",
   "name": "python3"
  },
  "language_info": {
   "codemirror_mode": {
    "name": "ipython",
    "version": 3
   },
   "file_extension": ".py",
   "mimetype": "text/x-python",
   "name": "python",
   "nbconvert_exporter": "python",
   "pygments_lexer": "ipython3",
   "version": "3.11.7"
  }
 },
 "nbformat": 4,
 "nbformat_minor": 2
}
